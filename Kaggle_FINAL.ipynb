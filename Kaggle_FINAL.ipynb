{
  "cells": [
    {
      "cell_type": "markdown",
      "metadata": {
        "id": "0O4tiXM3k5Z3"
      },
      "source": [
        "# DATA EXTRACTION AND TRANSFORMATIONS\n"
      ]
    },
    {
      "cell_type": "code",
      "source": [
        "#Connect to GDrive\n",
        "from google.colab import drive\n",
        "drive.mount('/content/drive')\n",
        "\n",
        "#Load libraries\n",
        "import os\n",
        "import torch\n",
        "from torchvision import transforms\n",
        "import torch.nn as nn\n",
        "import torchvision.models\n",
        "from torch.nn import CrossEntropyLoss\n",
        "from torch import optim\n",
        "import torchvision\n",
        "from torch.utils.data.sampler import SubsetRandomSampler\n",
        "from torch.utils.data import DataLoader\n",
        "from tqdm import tqdm\n",
        "\n",
        "from PIL import Image\n",
        "import numpy as np\n",
        "import cv2\n",
        "\n",
        "! pip install wget\n",
        "import wget\n",
        "\n",
        "!pip install patchify\n",
        "from patchify import patchify\n",
        "\n",
        "!pip install patchify\n",
        "from patchify import patchify\n",
        "\n",
        "import matplotlib.pyplot as plt"
      ],
      "metadata": {
        "colab": {
          "base_uri": "https://localhost:8080/"
        },
        "id": "9CIRC3ye9C0Z",
        "outputId": "3a67f857-c725-47c5-f4ab-54372362cee8"
      },
      "execution_count": null,
      "outputs": [
        {
          "output_type": "stream",
          "name": "stdout",
          "text": [
            "Mounted at /content/drive\n",
            "Collecting patchify\n",
            "  Downloading patchify-0.2.3-py3-none-any.whl (6.6 kB)\n",
            "Requirement already satisfied: numpy<2,>=1 in /usr/local/lib/python3.7/dist-packages (from patchify) (1.19.5)\n",
            "Installing collected packages: patchify\n",
            "Successfully installed patchify-0.2.3\n"
          ]
        }
      ]
    },
    {
      "cell_type": "code",
      "execution_count": null,
      "metadata": {
        "id": "vUd5PZVGDEyV",
        "outputId": "81feb9f1-d37f-4a30-b0a8-ebefc440bdea",
        "colab": {
          "base_uri": "https://localhost:8080/"
        }
      },
      "outputs": [
        {
          "output_type": "stream",
          "name": "stdout",
          "text": [
            "Collecting wget\n",
            "  Downloading wget-3.2.zip (10 kB)\n",
            "Building wheels for collected packages: wget\n",
            "  Building wheel for wget (setup.py) ... \u001b[?25l\u001b[?25hdone\n",
            "  Created wheel for wget: filename=wget-3.2-py3-none-any.whl size=9675 sha256=33650382f428ce6192e65b6bbf544e4353fe9e7f9487c5847bddbc8d8d99160a\n",
            "  Stored in directory: /root/.cache/pip/wheels/a1/b6/7c/0e63e34eb06634181c63adacca38b79ff8f35c37e3c13e3c02\n",
            "Successfully built wget\n",
            "Installing collected packages: wget\n",
            "Successfully installed wget-3.2\n",
            "rm: cannot remove 'test_images': No such file or directory\n",
            "rm: cannot remove 'train_images': No such file or directory\n",
            "rm: cannot remove 'train_masks': No such file or directory\n",
            "Archive:  data.zip\n",
            "  inflating: prepare_submission.py   \n",
            "  inflating: test_images/test_images/10170.jpg  \n",
            "  inflating: test_images/test_images/10171.jpg  \n",
            "  inflating: test_images/test_images/10184.jpg  \n",
            "  inflating: test_images/test_images/10566.jpg  \n",
            "  inflating: test_images/test_images/10808.jpg  \n",
            "  inflating: test_images/test_images/10812.jpg  \n",
            "  inflating: test_images/test_images/6413.jpg  \n",
            "  inflating: test_images/test_images/6424.jpg  \n",
            "  inflating: test_images/test_images/6427.jpg  \n",
            "  inflating: test_images/test_images/6450.jpg  \n",
            "  inflating: test_images/test_images/6455.jpg  \n",
            "  inflating: test_images/test_images/6457.jpg  \n",
            "  inflating: test_images/test_images/6459.jpg  \n",
            "  inflating: test_images/test_images/6462.jpg  \n",
            "  inflating: test_images/test_images/6463.jpg  \n",
            "  inflating: test_images/test_images/6465.jpg  \n",
            "  inflating: test_images/test_images/6466.jpg  \n",
            "  inflating: test_images/test_images/6476.jpg  \n",
            "  inflating: test_images/test_images/6481.jpg  \n",
            "  inflating: test_images/test_images/6492.jpg  \n",
            "  inflating: test_images/test_images/6499.jpg  \n",
            "  inflating: test_images/test_images/6504.jpg  \n",
            "  inflating: test_images/test_images/6546.jpg  \n",
            "  inflating: test_images/test_images/6550.jpg  \n",
            "  inflating: test_images/test_images/6560.jpg  \n",
            "  inflating: test_images/test_images/6569.jpg  \n",
            "  inflating: test_images/test_images/6574.jpg  \n",
            "  inflating: test_images/test_images/6608.jpg  \n",
            "  inflating: test_images/test_images/6644.jpg  \n",
            "  inflating: test_images/test_images/6648.jpg  \n",
            "  inflating: test_images/test_images/6654.jpg  \n",
            "  inflating: test_images/test_images/6656.jpg  \n",
            "  inflating: test_images/test_images/6657.jpg  \n",
            "  inflating: test_images/test_images/6662.jpg  \n",
            "  inflating: test_images/test_images/6677.jpg  \n",
            "  inflating: test_images/test_images/6701.jpg  \n",
            "  inflating: test_images/test_images/6710.jpg  \n",
            "  inflating: test_images/test_images/6717.jpg  \n",
            "  inflating: test_images/test_images/6795.jpg  \n",
            "  inflating: test_images/test_images/6804.jpg  \n",
            "  inflating: test_images/test_images/6854.jpg  \n",
            "  inflating: test_images/test_images/6856.jpg  \n",
            "  inflating: test_images/test_images/6901.jpg  \n",
            "  inflating: test_images/test_images/6908.jpg  \n",
            "  inflating: test_images/test_images/6933.jpg  \n",
            "  inflating: test_images/test_images/6963.jpg  \n",
            "  inflating: test_images/test_images/6974.jpg  \n",
            "  inflating: test_images/test_images/6982.jpg  \n",
            "  inflating: test_images/test_images/6994.jpg  \n",
            "  inflating: test_images/test_images/6996.jpg  \n",
            "  inflating: test_images/test_images/7009.jpg  \n",
            "  inflating: test_images/test_images/7193.jpg  \n",
            "  inflating: test_images/test_images/7235.jpg  \n",
            "  inflating: test_images/test_images/7236.jpg  \n",
            "  inflating: test_images/test_images/7241.jpg  \n",
            "  inflating: test_images/test_images/7251.jpg  \n",
            "  inflating: test_images/test_images/7257.jpg  \n",
            "  inflating: test_images/test_images/7263.jpg  \n",
            "  inflating: test_images/test_images/7265.jpg  \n",
            "  inflating: test_images/test_images/7270.jpg  \n",
            "  inflating: test_images/test_images/7272.jpg  \n",
            "  inflating: test_images/test_images/7300.jpg  \n",
            "  inflating: test_images/test_images/7304.jpg  \n",
            "  inflating: test_images/test_images/7308.jpg  \n",
            "  inflating: test_images/test_images/7311.jpg  \n",
            "  inflating: test_images/test_images/7323.jpg  \n",
            "  inflating: test_images/test_images/7330.jpg  \n",
            "  inflating: test_images/test_images/7356.jpg  \n",
            "  inflating: test_images/test_images/7366.jpg  \n",
            "  inflating: test_images/test_images/7412.jpg  \n",
            "  inflating: test_images/test_images/7415.jpg  \n",
            "  inflating: test_images/test_images/7422.jpg  \n",
            "  inflating: test_images/test_images/7427.jpg  \n",
            "  inflating: test_images/test_images/7429.jpg  \n",
            "  inflating: test_images/test_images/7438.jpg  \n",
            "  inflating: test_images/test_images/7457.jpg  \n",
            "  inflating: test_images/test_images/7466.jpg  \n",
            "  inflating: test_images/test_images/7481.jpg  \n",
            "  inflating: test_images/test_images/7485.jpg  \n",
            "  inflating: test_images/test_images/7489.jpg  \n",
            "  inflating: test_images/test_images/7521.jpg  \n",
            "  inflating: test_images/test_images/7541.jpg  \n",
            "  inflating: test_images/test_images/7556.jpg  \n",
            "  inflating: test_images/test_images/7560.jpg  \n",
            "  inflating: test_images/test_images/7580.jpg  \n",
            "  inflating: test_images/test_images/7582.jpg  \n",
            "  inflating: test_images/test_images/7586.jpg  \n",
            "  inflating: test_images/test_images/7593.jpg  \n",
            "  inflating: test_images/test_images/7597.jpg  \n",
            "  inflating: test_images/test_images/7673.jpg  \n",
            "  inflating: test_images/test_images/7719.jpg  \n",
            "  inflating: test_images/test_images/7721.jpg  \n",
            "  inflating: test_images/test_images/7829.jpg  \n",
            "  inflating: test_images/test_images/8361.jpg  \n",
            "  inflating: test_images/test_images/8516.jpg  \n",
            "  inflating: test_images/test_images/8526.jpg  \n",
            "  inflating: test_images/test_images/8774.jpg  \n",
            "  inflating: test_images/test_images/8786.jpg  \n",
            "  inflating: test_images/test_images/8833.jpg  \n",
            "  inflating: test_images/test_images/8906.jpg  \n",
            "  inflating: test_images/test_images/8947.jpg  \n",
            "  inflating: test_images/test_images/8962.jpg  \n",
            "  inflating: test_images/test_images/9006.jpg  \n",
            "  inflating: test_images/test_images/9070.jpg  \n",
            "  inflating: test_images/test_images/9079.jpg  \n",
            "  inflating: test_images/test_images/9084.jpg  \n",
            "  inflating: test_images/test_images/9087.jpg  \n",
            "  inflating: test_images/test_images/9101.jpg  \n",
            "  inflating: test_images/test_images/9106.jpg  \n",
            "  inflating: test_images/test_images/9110.jpg  \n",
            "  inflating: test_images/test_images/9723.jpg  \n",
            "  inflating: test_images/test_images/9795.jpg  \n",
            "  inflating: train_images/train_images/10172.jpg  \n",
            "  inflating: train_images/train_images/10174.jpg  \n",
            "  inflating: train_images/train_images/10300.jpg  \n",
            "  inflating: train_images/train_images/10810.jpg  \n",
            "  inflating: train_images/train_images/10814.jpg  \n",
            "  inflating: train_images/train_images/10817.jpg  \n",
            "  inflating: train_images/train_images/6411.jpg  \n",
            "  inflating: train_images/train_images/6412.jpg  \n",
            "  inflating: train_images/train_images/6414.jpg  \n",
            "  inflating: train_images/train_images/6416.jpg  \n",
            "  inflating: train_images/train_images/6419.jpg  \n",
            "  inflating: train_images/train_images/6420.jpg  \n",
            "  inflating: train_images/train_images/6421.jpg  \n",
            "  inflating: train_images/train_images/6422.jpg  \n",
            "  inflating: train_images/train_images/6426.jpg  \n",
            "  inflating: train_images/train_images/6431.jpg  \n",
            "  inflating: train_images/train_images/6433.jpg  \n",
            "  inflating: train_images/train_images/6435.jpg  \n",
            "  inflating: train_images/train_images/6437.jpg  \n",
            "  inflating: train_images/train_images/6443.jpg  \n",
            "  inflating: train_images/train_images/6444.jpg  \n",
            "  inflating: train_images/train_images/6445.jpg  \n",
            "  inflating: train_images/train_images/6447.jpg  \n",
            "  inflating: train_images/train_images/6449.jpg  \n",
            "  inflating: train_images/train_images/6452.jpg  \n",
            "  inflating: train_images/train_images/6454.jpg  \n",
            "  inflating: train_images/train_images/6456.jpg  \n",
            "  inflating: train_images/train_images/6467.jpg  \n",
            "  inflating: train_images/train_images/6468.jpg  \n",
            "  inflating: train_images/train_images/6469.jpg  \n",
            "  inflating: train_images/train_images/6496.jpg  \n",
            "  inflating: train_images/train_images/6545.jpg  \n",
            "  inflating: train_images/train_images/6548.jpg  \n",
            "  inflating: train_images/train_images/6555.jpg  \n",
            "  inflating: train_images/train_images/6556.jpg  \n",
            "  inflating: train_images/train_images/6559.jpg  \n",
            "  inflating: train_images/train_images/6564.jpg  \n",
            "  inflating: train_images/train_images/6565.jpg  \n",
            "  inflating: train_images/train_images/6567.jpg  \n",
            "  inflating: train_images/train_images/6580.jpg  \n",
            "  inflating: train_images/train_images/6594.jpg  \n",
            "  inflating: train_images/train_images/6603.jpg  \n",
            "  inflating: train_images/train_images/6619.jpg  \n",
            "  inflating: train_images/train_images/6622.jpg  \n",
            "  inflating: train_images/train_images/6625.jpg  \n",
            "  inflating: train_images/train_images/6627.jpg  \n",
            "  inflating: train_images/train_images/6639.jpg  \n",
            "  inflating: train_images/train_images/6640.jpg  \n",
            "  inflating: train_images/train_images/6643.jpg  \n",
            "  inflating: train_images/train_images/6645.jpg  \n",
            "  inflating: train_images/train_images/6649.jpg  \n",
            "  inflating: train_images/train_images/6652.jpg  \n",
            "  inflating: train_images/train_images/6659.jpg  \n",
            "  inflating: train_images/train_images/6664.jpg  \n",
            "  inflating: train_images/train_images/6666.jpg  \n",
            "  inflating: train_images/train_images/6691.jpg  \n",
            "  inflating: train_images/train_images/6692.jpg  \n",
            "  inflating: train_images/train_images/6693.jpg  \n",
            "  inflating: train_images/train_images/6695.jpg  \n",
            "  inflating: train_images/train_images/6703.jpg  \n",
            "  inflating: train_images/train_images/6704.jpg  \n",
            "  inflating: train_images/train_images/6706.jpg  \n",
            "  inflating: train_images/train_images/6707.jpg  \n",
            "  inflating: train_images/train_images/6708.jpg  \n",
            "  inflating: train_images/train_images/6712.jpg  \n",
            "  inflating: train_images/train_images/6714.jpg  \n",
            "  inflating: train_images/train_images/6715.jpg  \n",
            "  inflating: train_images/train_images/6716.jpg  \n",
            "  inflating: train_images/train_images/6794.jpg  \n",
            "  inflating: train_images/train_images/6796.jpg  \n",
            "  inflating: train_images/train_images/6799.jpg  \n",
            "  inflating: train_images/train_images/6802.jpg  \n",
            "  inflating: train_images/train_images/6807.jpg  \n",
            "  inflating: train_images/train_images/6814.jpg  \n",
            "  inflating: train_images/train_images/6820.jpg  \n",
            "  inflating: train_images/train_images/6824.jpg  \n",
            "  inflating: train_images/train_images/6827.jpg  \n",
            "  inflating: train_images/train_images/6829.jpg  \n",
            "  inflating: train_images/train_images/6836.jpg  \n",
            "  inflating: train_images/train_images/6843.jpg  \n",
            "  inflating: train_images/train_images/6844.jpg  \n",
            "  inflating: train_images/train_images/6846.jpg  \n",
            "  inflating: train_images/train_images/6853.jpg  \n",
            "  inflating: train_images/train_images/6855.jpg  \n",
            "  inflating: train_images/train_images/6858.jpg  \n",
            "  inflating: train_images/train_images/6891.jpg  \n",
            "  inflating: train_images/train_images/6893.jpg  \n",
            "  inflating: train_images/train_images/6895.jpg  \n",
            "  inflating: train_images/train_images/6900.jpg  \n",
            "  inflating: train_images/train_images/6904.jpg  \n",
            "  inflating: train_images/train_images/6905.jpg  \n",
            "  inflating: train_images/train_images/6906.jpg  \n",
            "  inflating: train_images/train_images/6930.jpg  \n",
            "  inflating: train_images/train_images/6935.jpg  \n",
            "  inflating: train_images/train_images/6939.jpg  \n",
            "  inflating: train_images/train_images/6946.jpg  \n",
            "  inflating: train_images/train_images/6957.jpg  \n",
            "  inflating: train_images/train_images/6959.jpg  \n",
            "  inflating: train_images/train_images/6965.jpg  \n",
            "  inflating: train_images/train_images/6966.jpg  \n",
            "  inflating: train_images/train_images/6967.jpg  \n",
            "  inflating: train_images/train_images/6969.jpg  \n",
            "  inflating: train_images/train_images/6970.jpg  \n",
            "  inflating: train_images/train_images/6976.jpg  \n",
            "  inflating: train_images/train_images/6979.jpg  \n",
            "  inflating: train_images/train_images/6981.jpg  \n",
            "  inflating: train_images/train_images/6985.jpg  \n",
            "  inflating: train_images/train_images/7004.jpg  \n",
            "  inflating: train_images/train_images/7042.jpg  \n",
            "  inflating: train_images/train_images/7147.jpg  \n",
            "  inflating: train_images/train_images/7151.jpg  \n",
            "  inflating: train_images/train_images/7156.jpg  \n",
            "  inflating: train_images/train_images/7192.jpg  \n",
            "  inflating: train_images/train_images/7194.jpg  \n",
            "  inflating: train_images/train_images/7232.jpg  \n",
            "  inflating: train_images/train_images/7233.jpg  \n",
            "  inflating: train_images/train_images/7238.jpg  \n",
            "  inflating: train_images/train_images/7239.jpg  \n",
            "  inflating: train_images/train_images/7243.jpg  \n",
            "  inflating: train_images/train_images/7245.jpg  \n",
            "  inflating: train_images/train_images/7252.jpg  \n",
            "  inflating: train_images/train_images/7253.jpg  \n",
            "  inflating: train_images/train_images/7256.jpg  \n",
            "  inflating: train_images/train_images/7258.jpg  \n",
            "  inflating: train_images/train_images/7261.jpg  \n",
            "  inflating: train_images/train_images/7264.jpg  \n",
            "  inflating: train_images/train_images/7278.jpg  \n",
            "  inflating: train_images/train_images/7285.jpg  \n",
            "  inflating: train_images/train_images/7290.jpg  \n",
            "  inflating: train_images/train_images/7294.jpg  \n",
            "  inflating: train_images/train_images/7298.jpg  \n",
            "  inflating: train_images/train_images/7301.jpg  \n",
            "  inflating: train_images/train_images/7305.jpg  \n",
            "  inflating: train_images/train_images/7306.jpg  \n",
            "  inflating: train_images/train_images/7310.jpg  \n",
            "  inflating: train_images/train_images/7313.jpg  \n",
            "  inflating: train_images/train_images/7314.jpg  \n",
            "  inflating: train_images/train_images/7315.jpg  \n",
            "  inflating: train_images/train_images/7316.jpg  \n",
            "  inflating: train_images/train_images/7318.jpg  \n",
            "  inflating: train_images/train_images/7320.jpg  \n",
            "  inflating: train_images/train_images/7321.jpg  \n",
            "  inflating: train_images/train_images/7322.jpg  \n",
            "  inflating: train_images/train_images/7324.jpg  \n",
            "  inflating: train_images/train_images/7328.jpg  \n",
            "  inflating: train_images/train_images/7332.jpg  \n",
            "  inflating: train_images/train_images/7335.jpg  \n",
            "  inflating: train_images/train_images/7336.jpg  \n",
            "  inflating: train_images/train_images/7339.jpg  \n",
            "  inflating: train_images/train_images/7362.jpg  \n",
            "  inflating: train_images/train_images/7370.jpg  \n",
            "  inflating: train_images/train_images/7372.jpg  \n",
            "  inflating: train_images/train_images/7374.jpg  \n",
            "  inflating: train_images/train_images/7406.jpg  \n",
            "  inflating: train_images/train_images/7410.jpg  \n",
            "  inflating: train_images/train_images/7414.jpg  \n",
            "  inflating: train_images/train_images/7426.jpg  \n",
            "  inflating: train_images/train_images/7431.jpg  \n",
            "  inflating: train_images/train_images/7434.jpg  \n",
            "  inflating: train_images/train_images/7463.jpg  \n",
            "  inflating: train_images/train_images/7465.jpg  \n",
            "  inflating: train_images/train_images/7467.jpg  \n",
            "  inflating: train_images/train_images/7469.jpg  \n",
            "  inflating: train_images/train_images/7473.jpg  \n",
            "  inflating: train_images/train_images/7477.jpg  \n",
            "  inflating: train_images/train_images/7488.jpg  \n",
            "  inflating: train_images/train_images/7520.jpg  \n",
            "  inflating: train_images/train_images/7525.jpg  \n",
            "  inflating: train_images/train_images/7526.jpg  \n",
            "  inflating: train_images/train_images/7542.jpg  \n",
            "  inflating: train_images/train_images/7552.jpg  \n",
            "  inflating: train_images/train_images/7559.jpg  \n",
            "  inflating: train_images/train_images/7567.jpg  \n",
            "  inflating: train_images/train_images/7571.jpg  \n",
            "  inflating: train_images/train_images/7573.jpg  \n",
            "  inflating: train_images/train_images/7575.jpg  \n",
            "  inflating: train_images/train_images/7579.jpg  \n",
            "  inflating: train_images/train_images/7581.jpg  \n",
            "  inflating: train_images/train_images/7583.jpg  \n",
            "  inflating: train_images/train_images/7584.jpg  \n",
            "  inflating: train_images/train_images/7590.jpg  \n",
            "  inflating: train_images/train_images/7595.jpg  \n",
            "  inflating: train_images/train_images/7596.jpg  \n",
            "  inflating: train_images/train_images/7601.jpg  \n",
            "  inflating: train_images/train_images/7605.jpg  \n",
            "  inflating: train_images/train_images/7606.jpg  \n",
            "  inflating: train_images/train_images/7609.jpg  \n",
            "  inflating: train_images/train_images/7611.jpg  \n",
            "  inflating: train_images/train_images/7614.jpg  \n",
            "  inflating: train_images/train_images/7616.jpg  \n",
            "  inflating: train_images/train_images/7641.jpg  \n",
            "  inflating: train_images/train_images/7650.jpg  \n",
            "  inflating: train_images/train_images/7677.jpg  \n",
            "  inflating: train_images/train_images/7682.jpg  \n",
            "  inflating: train_images/train_images/7685.jpg  \n",
            "  inflating: train_images/train_images/7690.jpg  \n",
            "  inflating: train_images/train_images/7691.jpg  \n",
            "  inflating: train_images/train_images/7720.jpg  \n",
            "  inflating: train_images/train_images/7751.jpg  \n",
            "  inflating: train_images/train_images/7787.jpg  \n",
            "  inflating: train_images/train_images/7788.jpg  \n",
            "  inflating: train_images/train_images/7859.jpg  \n",
            "  inflating: train_images/train_images/7899.jpg  \n",
            "  inflating: train_images/train_images/8351.jpg  \n",
            "  inflating: train_images/train_images/8362.jpg  \n",
            "  inflating: train_images/train_images/8367.jpg  \n",
            "  inflating: train_images/train_images/8368.jpg  \n",
            "  inflating: train_images/train_images/8372.jpg  \n",
            "  inflating: train_images/train_images/8389.jpg  \n",
            "  inflating: train_images/train_images/8398.jpg  \n",
            "  inflating: train_images/train_images/8401.jpg  \n",
            "  inflating: train_images/train_images/8431.jpg  \n",
            "  inflating: train_images/train_images/8440.jpg  \n",
            "  inflating: train_images/train_images/8445.jpg  \n",
            "  inflating: train_images/train_images/8447.jpg  \n",
            "  inflating: train_images/train_images/8464.jpg  \n",
            "  inflating: train_images/train_images/8475.jpg  \n",
            "  inflating: train_images/train_images/8777.jpg  \n",
            "  inflating: train_images/train_images/8791.jpg  \n",
            "  inflating: train_images/train_images/8814.jpg  \n",
            "  inflating: train_images/train_images/8816.jpg  \n",
            "  inflating: train_images/train_images/8817.jpg  \n",
            "  inflating: train_images/train_images/8818.jpg  \n",
            "  inflating: train_images/train_images/8821.jpg  \n",
            "  inflating: train_images/train_images/8860.jpg  \n",
            "  inflating: train_images/train_images/8879.jpg  \n",
            "  inflating: train_images/train_images/8898.jpg  \n",
            "  inflating: train_images/train_images/8900.jpg  \n",
            "  inflating: train_images/train_images/8902.jpg  \n",
            "  inflating: train_images/train_images/8909.jpg  \n",
            "  inflating: train_images/train_images/8911.jpg  \n",
            "  inflating: train_images/train_images/8917.jpg  \n",
            "  inflating: train_images/train_images/8928.jpg  \n",
            "  inflating: train_images/train_images/8937.jpg  \n",
            "  inflating: train_images/train_images/8945.jpg  \n",
            "  inflating: train_images/train_images/8955.jpg  \n",
            "  inflating: train_images/train_images/8960.jpg  \n",
            "  inflating: train_images/train_images/8966.jpg  \n",
            "  inflating: train_images/train_images/9034.jpg  \n",
            "  inflating: train_images/train_images/9036.jpg  \n",
            "  inflating: train_images/train_images/9039.jpg  \n",
            "  inflating: train_images/train_images/9042.jpg  \n",
            "  inflating: train_images/train_images/9044.jpg  \n",
            "  inflating: train_images/train_images/9045.jpg  \n",
            "  inflating: train_images/train_images/9055.jpg  \n",
            "  inflating: train_images/train_images/9064.jpg  \n",
            "  inflating: train_images/train_images/9068.jpg  \n",
            "  inflating: train_images/train_images/9080.jpg  \n",
            "  inflating: train_images/train_images/9082.jpg  \n",
            "  inflating: train_images/train_images/9083.jpg  \n",
            "  inflating: train_images/train_images/9091.jpg  \n",
            "  inflating: train_images/train_images/9094.jpg  \n",
            "  inflating: train_images/train_images/9099.jpg  \n",
            "  inflating: train_images/train_images/9103.jpg  \n",
            "  inflating: train_images/train_images/9107.jpg  \n",
            "  inflating: train_images/train_images/9108.jpg  \n",
            "  inflating: train_images/train_images/9367.jpg  \n",
            "  inflating: train_images/train_images/9459.jpg  \n",
            "  inflating: train_images/train_images/9722.jpg  \n",
            "  inflating: train_images/train_images/9725.jpg  \n",
            "  inflating: train_images/train_images/9925.jpg  \n",
            "  inflating: train_masks/train_masks/10172.png  \n",
            "  inflating: train_masks/train_masks/10174.png  \n",
            "  inflating: train_masks/train_masks/10300.png  \n",
            "  inflating: train_masks/train_masks/10810.png  \n",
            "  inflating: train_masks/train_masks/10814.png  \n",
            "  inflating: train_masks/train_masks/10817.png  \n",
            "  inflating: train_masks/train_masks/6411.png  \n",
            "  inflating: train_masks/train_masks/6412.png  \n",
            "  inflating: train_masks/train_masks/6414.png  \n",
            "  inflating: train_masks/train_masks/6416.png  \n",
            "  inflating: train_masks/train_masks/6419.png  \n",
            "  inflating: train_masks/train_masks/6420.png  \n",
            "  inflating: train_masks/train_masks/6421.png  \n",
            "  inflating: train_masks/train_masks/6422.png  \n",
            "  inflating: train_masks/train_masks/6426.png  \n",
            "  inflating: train_masks/train_masks/6431.png  \n",
            "  inflating: train_masks/train_masks/6433.png  \n",
            "  inflating: train_masks/train_masks/6435.png  \n",
            "  inflating: train_masks/train_masks/6437.png  \n",
            "  inflating: train_masks/train_masks/6443.png  \n",
            "  inflating: train_masks/train_masks/6444.png  \n",
            "  inflating: train_masks/train_masks/6445.png  \n",
            "  inflating: train_masks/train_masks/6447.png  \n",
            "  inflating: train_masks/train_masks/6449.png  \n",
            "  inflating: train_masks/train_masks/6452.png  \n",
            "  inflating: train_masks/train_masks/6454.png  \n",
            "  inflating: train_masks/train_masks/6456.png  \n",
            "  inflating: train_masks/train_masks/6467.png  \n",
            "  inflating: train_masks/train_masks/6468.png  \n",
            "  inflating: train_masks/train_masks/6469.png  \n",
            "  inflating: train_masks/train_masks/6496.png  \n",
            "  inflating: train_masks/train_masks/6545.png  \n",
            "  inflating: train_masks/train_masks/6548.png  \n",
            "  inflating: train_masks/train_masks/6555.png  \n",
            "  inflating: train_masks/train_masks/6556.png  \n",
            "  inflating: train_masks/train_masks/6559.png  \n",
            "  inflating: train_masks/train_masks/6564.png  \n",
            "  inflating: train_masks/train_masks/6565.png  \n",
            "  inflating: train_masks/train_masks/6567.png  \n",
            "  inflating: train_masks/train_masks/6580.png  \n",
            "  inflating: train_masks/train_masks/6594.png  \n",
            "  inflating: train_masks/train_masks/6603.png  \n",
            "  inflating: train_masks/train_masks/6619.png  \n",
            "  inflating: train_masks/train_masks/6622.png  \n",
            "  inflating: train_masks/train_masks/6625.png  \n",
            "  inflating: train_masks/train_masks/6627.png  \n",
            "  inflating: train_masks/train_masks/6639.png  \n",
            "  inflating: train_masks/train_masks/6640.png  \n",
            "  inflating: train_masks/train_masks/6643.png  \n",
            "  inflating: train_masks/train_masks/6645.png  \n",
            "  inflating: train_masks/train_masks/6649.png  \n",
            "  inflating: train_masks/train_masks/6652.png  \n",
            "  inflating: train_masks/train_masks/6659.png  \n",
            "  inflating: train_masks/train_masks/6664.png  \n",
            "  inflating: train_masks/train_masks/6666.png  \n",
            "  inflating: train_masks/train_masks/6691.png  \n",
            "  inflating: train_masks/train_masks/6692.png  \n",
            "  inflating: train_masks/train_masks/6693.png  \n",
            "  inflating: train_masks/train_masks/6695.png  \n",
            "  inflating: train_masks/train_masks/6703.png  \n",
            "  inflating: train_masks/train_masks/6704.png  \n",
            "  inflating: train_masks/train_masks/6706.png  \n",
            "  inflating: train_masks/train_masks/6707.png  \n",
            "  inflating: train_masks/train_masks/6708.png  \n",
            "  inflating: train_masks/train_masks/6712.png  \n",
            "  inflating: train_masks/train_masks/6714.png  \n",
            "  inflating: train_masks/train_masks/6715.png  \n",
            "  inflating: train_masks/train_masks/6716.png  \n",
            "  inflating: train_masks/train_masks/6794.png  \n",
            "  inflating: train_masks/train_masks/6796.png  \n",
            "  inflating: train_masks/train_masks/6799.png  \n",
            "  inflating: train_masks/train_masks/6802.png  \n",
            "  inflating: train_masks/train_masks/6807.png  \n",
            "  inflating: train_masks/train_masks/6814.png  \n",
            "  inflating: train_masks/train_masks/6820.png  \n",
            "  inflating: train_masks/train_masks/6824.png  \n",
            "  inflating: train_masks/train_masks/6827.png  \n",
            "  inflating: train_masks/train_masks/6829.png  \n",
            "  inflating: train_masks/train_masks/6836.png  \n",
            "  inflating: train_masks/train_masks/6843.png  \n",
            "  inflating: train_masks/train_masks/6844.png  \n",
            "  inflating: train_masks/train_masks/6846.png  \n",
            "  inflating: train_masks/train_masks/6853.png  \n",
            "  inflating: train_masks/train_masks/6855.png  \n",
            "  inflating: train_masks/train_masks/6858.png  \n",
            "  inflating: train_masks/train_masks/6891.png  \n",
            "  inflating: train_masks/train_masks/6893.png  \n",
            "  inflating: train_masks/train_masks/6895.png  \n",
            "  inflating: train_masks/train_masks/6900.png  \n",
            "  inflating: train_masks/train_masks/6904.png  \n",
            "  inflating: train_masks/train_masks/6905.png  \n",
            "  inflating: train_masks/train_masks/6906.png  \n",
            "  inflating: train_masks/train_masks/6930.png  \n",
            "  inflating: train_masks/train_masks/6935.png  \n",
            "  inflating: train_masks/train_masks/6939.png  \n",
            "  inflating: train_masks/train_masks/6946.png  \n",
            "  inflating: train_masks/train_masks/6957.png  \n",
            "  inflating: train_masks/train_masks/6959.png  \n",
            "  inflating: train_masks/train_masks/6965.png  \n",
            "  inflating: train_masks/train_masks/6966.png  \n",
            "  inflating: train_masks/train_masks/6967.png  \n",
            "  inflating: train_masks/train_masks/6969.png  \n",
            "  inflating: train_masks/train_masks/6970.png  \n",
            "  inflating: train_masks/train_masks/6976.png  \n",
            "  inflating: train_masks/train_masks/6979.png  \n",
            "  inflating: train_masks/train_masks/6981.png  \n",
            "  inflating: train_masks/train_masks/6985.png  \n",
            "  inflating: train_masks/train_masks/7004.png  \n",
            "  inflating: train_masks/train_masks/7042.png  \n",
            "  inflating: train_masks/train_masks/7147.png  \n",
            "  inflating: train_masks/train_masks/7151.png  \n",
            "  inflating: train_masks/train_masks/7156.png  \n",
            "  inflating: train_masks/train_masks/7192.png  \n",
            "  inflating: train_masks/train_masks/7194.png  \n",
            "  inflating: train_masks/train_masks/7232.png  \n",
            "  inflating: train_masks/train_masks/7233.png  \n",
            "  inflating: train_masks/train_masks/7238.png  \n",
            "  inflating: train_masks/train_masks/7239.png  \n",
            "  inflating: train_masks/train_masks/7243.png  \n",
            "  inflating: train_masks/train_masks/7245.png  \n",
            "  inflating: train_masks/train_masks/7252.png  \n",
            "  inflating: train_masks/train_masks/7253.png  \n",
            "  inflating: train_masks/train_masks/7256.png  \n",
            "  inflating: train_masks/train_masks/7258.png  \n",
            "  inflating: train_masks/train_masks/7261.png  \n",
            "  inflating: train_masks/train_masks/7264.png  \n",
            "  inflating: train_masks/train_masks/7278.png  \n",
            "  inflating: train_masks/train_masks/7285.png  \n",
            "  inflating: train_masks/train_masks/7290.png  \n",
            "  inflating: train_masks/train_masks/7294.png  \n",
            "  inflating: train_masks/train_masks/7298.png  \n",
            "  inflating: train_masks/train_masks/7301.png  \n",
            "  inflating: train_masks/train_masks/7305.png  \n",
            "  inflating: train_masks/train_masks/7306.png  \n",
            "  inflating: train_masks/train_masks/7310.png  \n",
            "  inflating: train_masks/train_masks/7313.png  \n",
            "  inflating: train_masks/train_masks/7314.png  \n",
            "  inflating: train_masks/train_masks/7315.png  \n",
            "  inflating: train_masks/train_masks/7316.png  \n",
            "  inflating: train_masks/train_masks/7318.png  \n",
            "  inflating: train_masks/train_masks/7320.png  \n",
            "  inflating: train_masks/train_masks/7321.png  \n",
            "  inflating: train_masks/train_masks/7322.png  \n",
            "  inflating: train_masks/train_masks/7324.png  \n",
            "  inflating: train_masks/train_masks/7328.png  \n",
            "  inflating: train_masks/train_masks/7332.png  \n",
            "  inflating: train_masks/train_masks/7335.png  \n",
            "  inflating: train_masks/train_masks/7336.png  \n",
            "  inflating: train_masks/train_masks/7339.png  \n",
            "  inflating: train_masks/train_masks/7362.png  \n",
            "  inflating: train_masks/train_masks/7370.png  \n",
            "  inflating: train_masks/train_masks/7372.png  \n",
            "  inflating: train_masks/train_masks/7374.png  \n",
            "  inflating: train_masks/train_masks/7406.png  \n",
            "  inflating: train_masks/train_masks/7410.png  \n",
            "  inflating: train_masks/train_masks/7414.png  \n",
            "  inflating: train_masks/train_masks/7426.png  \n",
            "  inflating: train_masks/train_masks/7431.png  \n",
            "  inflating: train_masks/train_masks/7434.png  \n",
            "  inflating: train_masks/train_masks/7463.png  \n",
            "  inflating: train_masks/train_masks/7465.png  \n",
            "  inflating: train_masks/train_masks/7467.png  \n",
            "  inflating: train_masks/train_masks/7469.png  \n",
            "  inflating: train_masks/train_masks/7473.png  \n",
            "  inflating: train_masks/train_masks/7477.png  \n",
            "  inflating: train_masks/train_masks/7488.png  \n",
            "  inflating: train_masks/train_masks/7520.png  \n",
            "  inflating: train_masks/train_masks/7525.png  \n",
            "  inflating: train_masks/train_masks/7526.png  \n",
            "  inflating: train_masks/train_masks/7542.png  \n",
            "  inflating: train_masks/train_masks/7552.png  \n",
            "  inflating: train_masks/train_masks/7559.png  \n",
            "  inflating: train_masks/train_masks/7567.png  \n",
            "  inflating: train_masks/train_masks/7571.png  \n",
            "  inflating: train_masks/train_masks/7573.png  \n",
            "  inflating: train_masks/train_masks/7575.png  \n",
            "  inflating: train_masks/train_masks/7579.png  \n",
            "  inflating: train_masks/train_masks/7581.png  \n",
            "  inflating: train_masks/train_masks/7583.png  \n",
            "  inflating: train_masks/train_masks/7584.png  \n",
            "  inflating: train_masks/train_masks/7590.png  \n",
            "  inflating: train_masks/train_masks/7595.png  \n",
            "  inflating: train_masks/train_masks/7596.png  \n",
            "  inflating: train_masks/train_masks/7601.png  \n",
            "  inflating: train_masks/train_masks/7605.png  \n",
            "  inflating: train_masks/train_masks/7606.png  \n",
            "  inflating: train_masks/train_masks/7609.png  \n",
            "  inflating: train_masks/train_masks/7611.png  \n",
            "  inflating: train_masks/train_masks/7614.png  \n",
            "  inflating: train_masks/train_masks/7616.png  \n",
            "  inflating: train_masks/train_masks/7641.png  \n",
            "  inflating: train_masks/train_masks/7650.png  \n",
            "  inflating: train_masks/train_masks/7677.png  \n",
            "  inflating: train_masks/train_masks/7682.png  \n",
            "  inflating: train_masks/train_masks/7685.png  \n",
            "  inflating: train_masks/train_masks/7690.png  \n",
            "  inflating: train_masks/train_masks/7691.png  \n",
            "  inflating: train_masks/train_masks/7720.png  \n",
            "  inflating: train_masks/train_masks/7751.png  \n",
            "  inflating: train_masks/train_masks/7787.png  \n",
            "  inflating: train_masks/train_masks/7788.png  \n",
            "  inflating: train_masks/train_masks/7859.png  \n",
            "  inflating: train_masks/train_masks/7899.png  \n",
            "  inflating: train_masks/train_masks/8351.png  \n",
            "  inflating: train_masks/train_masks/8362.png  \n",
            "  inflating: train_masks/train_masks/8367.png  \n",
            "  inflating: train_masks/train_masks/8368.png  \n",
            "  inflating: train_masks/train_masks/8372.png  \n",
            "  inflating: train_masks/train_masks/8389.png  \n",
            "  inflating: train_masks/train_masks/8398.png  \n",
            "  inflating: train_masks/train_masks/8401.png  \n",
            "  inflating: train_masks/train_masks/8431.png  \n",
            "  inflating: train_masks/train_masks/8440.png  \n",
            "  inflating: train_masks/train_masks/8445.png  \n",
            "  inflating: train_masks/train_masks/8447.png  \n",
            "  inflating: train_masks/train_masks/8464.png  \n",
            "  inflating: train_masks/train_masks/8475.png  \n",
            "  inflating: train_masks/train_masks/8777.png  \n",
            "  inflating: train_masks/train_masks/8791.png  \n",
            "  inflating: train_masks/train_masks/8814.png  \n",
            "  inflating: train_masks/train_masks/8816.png  \n",
            "  inflating: train_masks/train_masks/8817.png  \n",
            "  inflating: train_masks/train_masks/8818.png  \n",
            "  inflating: train_masks/train_masks/8821.png  \n",
            "  inflating: train_masks/train_masks/8860.png  \n",
            "  inflating: train_masks/train_masks/8879.png  \n",
            "  inflating: train_masks/train_masks/8898.png  \n",
            "  inflating: train_masks/train_masks/8900.png  \n",
            "  inflating: train_masks/train_masks/8902.png  \n",
            "  inflating: train_masks/train_masks/8909.png  \n",
            "  inflating: train_masks/train_masks/8911.png  \n",
            "  inflating: train_masks/train_masks/8917.png  \n",
            "  inflating: train_masks/train_masks/8928.png  \n",
            "  inflating: train_masks/train_masks/8937.png  \n",
            "  inflating: train_masks/train_masks/8945.png  \n",
            "  inflating: train_masks/train_masks/8955.png  \n",
            "  inflating: train_masks/train_masks/8960.png  \n",
            "  inflating: train_masks/train_masks/8966.png  \n",
            "  inflating: train_masks/train_masks/9034.png  \n",
            "  inflating: train_masks/train_masks/9036.png  \n",
            "  inflating: train_masks/train_masks/9039.png  \n",
            "  inflating: train_masks/train_masks/9042.png  \n",
            "  inflating: train_masks/train_masks/9044.png  \n",
            "  inflating: train_masks/train_masks/9045.png  \n",
            "  inflating: train_masks/train_masks/9055.png  \n",
            "  inflating: train_masks/train_masks/9064.png  \n",
            "  inflating: train_masks/train_masks/9068.png  \n",
            "  inflating: train_masks/train_masks/9080.png  \n",
            "  inflating: train_masks/train_masks/9082.png  \n",
            "  inflating: train_masks/train_masks/9083.png  \n",
            "  inflating: train_masks/train_masks/9091.png  \n",
            "  inflating: train_masks/train_masks/9094.png  \n",
            "  inflating: train_masks/train_masks/9099.png  \n",
            "  inflating: train_masks/train_masks/9103.png  \n",
            "  inflating: train_masks/train_masks/9107.png  \n",
            "  inflating: train_masks/train_masks/9108.png  \n",
            "  inflating: train_masks/train_masks/9367.png  \n",
            "  inflating: train_masks/train_masks/9459.png  \n",
            "  inflating: train_masks/train_masks/9722.png  \n",
            "  inflating: train_masks/train_masks/9725.png  \n",
            "  inflating: train_masks/train_masks/9925.png  \n"
          ]
        }
      ],
      "source": [
        "#Remove folders and data if they exist to avoid duplicating data.\n",
        "!rm -r \"test_images\"\n",
        "!rm -r \"train_images\"\n",
        "!rm -r \"train_masks\"\n",
        "\n",
        "#Donwload dataset from Kaggle\n",
        "#The URL expires every few days\n",
        "url = \"https://storage.googleapis.com/kaggle-competitions-data/kaggle-v2/32624/2877787/bundle/archive.zip?GoogleAccessId=web-data@kaggle-161607.iam.gserviceaccount.com&Expires=1642613676&Signature=CelZ%2F0kKR5xAEsdt1yV5JK8M0vNZs3CTwpev9glAnkDO5BCf%2F8Lxk%2FQzw4i2iN%2FtVK%2Bw2jk7KE3H5%2Fl5aeVzmn4Ias1%2FmK1ldQI2mbRRgBHbIXOh4AMmJEu8RZfhxz4rE8jvXFqDzlFNGxPwcD1O%2Bg1nymuI2wSmk5SHSVHQHv0ztx%2BXFY6lMKHmKT0zgOkR5bUwwq9vfa1pLIyyJejKkyJrz6NAW4CPkIgYKxYZnujwch5l1%2Bo2IzU0eNIJwDkgcejyBTfjOzy2OGakt17ZfgrVNeyJJWShHlAhl3UI986KHCR4xVLJy%2BZXpGktCDTyaXvMZfHdIS2YohuVPQRq%2Fg%3D%3D&response-content-disposition=attachment%3B+filename%3Dfdl21-fdl-dsba.zip\"\n",
        "wget.download(url, './data.zip')\n",
        "\n",
        "#Unzip the downloaded folder and remove the zip file.\n",
        "! unzip \"data.zip\"\n",
        "! rm \"data.zip\""
      ]
    },
    {
      "cell_type": "code",
      "execution_count": null,
      "metadata": {
        "id": "ZdTg0Cu18IqP",
        "colab": {
          "base_uri": "https://localhost:8080/"
        },
        "outputId": "6230dc60-67eb-4877-f210-846c861bac0c"
      },
      "outputs": [
        {
          "output_type": "stream",
          "name": "stdout",
          "text": [
            "Requirement already satisfied: patchify in /usr/local/lib/python3.7/dist-packages (0.2.3)\n",
            "Requirement already satisfied: numpy<2,>=1 in /usr/local/lib/python3.7/dist-packages (from patchify) (1.19.5)\n"
          ]
        }
      ],
      "source": [
        "#Define sizes for images and patches\n",
        "img_size= 1024, 1024\n",
        "mask_size = 1024, 1024\n",
        "img_patch_size = 512\n",
        "mask_patch_size = 512\n",
        "\n",
        "#Image transformations, adapted to the transformations originally used to train ResNet\n",
        "transform_img = transforms.Compose([transforms.ToTensor(),transforms.Normalize(mean=[0.485, 0.456, 0.406],\n",
        "                                 std=[0.229, 0.224, 0.225])])\n",
        "\n",
        "#Transformations for training masks\n",
        "transform_mask = transforms.Compose([transforms.ToTensor()])\n",
        "\n",
        "#Define directories\n",
        "directory_names = ['train_masks/train_masks','train_images/train_images']\n",
        "dataset = []\n",
        "\n",
        "#Number of classes\n",
        "n_classes = 25\n",
        "\n",
        "#Iterate through every directory\n",
        "for name in directory_names:\n",
        "  directory = os.fsencode(name)\n",
        "  list_tensors = []\n",
        "  #Iterate every file \n",
        "  for file in sorted(os.listdir(directory)):\n",
        "    filename = os.fsdecode(file)\n",
        "    #Pre-processing for training masks\n",
        "    if name == 'train_masks/train_masks':\n",
        "      #Load image\n",
        "      im = cv2.imread(name + '/' + filename, cv2.IMREAD_GRAYSCALE)\n",
        "      #Convert to np array\n",
        "      im = np.array(im, dtype='i')\n",
        "      #Resize for patchifying\n",
        "      im = cv2.resize(im, dsize= mask_size,interpolation = cv2.INTER_NEAREST)\n",
        "      #Separately store original image at smaller size for later use\n",
        "      im_og = cv2.resize(im, dsize= (mask_patch_size,mask_patch_size),interpolation = cv2.INTER_NEAREST)\n",
        "      #Patchify image and store patches in list\n",
        "      patches_img = patchify(im, (mask_patch_size, mask_patch_size), step=mask_patch_size)\n",
        "    #Pre-processing for images\n",
        "    else:\n",
        "      #Load image\n",
        "      im = cv2.imread(name + '/' + filename)\n",
        "      #Convert to np array\n",
        "      im = np.array(im)\n",
        "      #Resize for patchifying\n",
        "      im = cv2.resize(im, dsize= img_size,interpolation = cv2.INTER_NEAREST)\n",
        "      #Separately store original image at smaller size for later use\n",
        "      im_og = cv2.resize(im, dsize= (img_patch_size,img_patch_size),interpolation = cv2.INTER_NEAREST)\n",
        "      #Patchify image and store patches in list\n",
        "      patches_img = patchify(im, (img_patch_size, img_patch_size, 3), step=img_patch_size)\n",
        "    #Remove dimension        \n",
        "    patches_img = patches_img.squeeze()\n",
        "    #Iterate through all patches\n",
        "    for i in range(2):\n",
        "      for j in range(2):\n",
        "        #Define patch\n",
        "        im = patches_img[i,j,:,:]\n",
        "        #Apply transformations to generate several versions of patch (flipping & rotations)\n",
        "        im_list = [im, np.flip(im,axis=0).copy(), np.rot90(im, k=1, axes=(0, 1)).copy(), np.rot90(im, k=3, axes=(0, 1)).copy()]\n",
        "        #Iterate through different versions\n",
        "        for im in im_list:\n",
        "          #Apply mask transformations\n",
        "          if name == 'train_masks/train_masks':\n",
        "            tensor_img = transform_mask(im)\n",
        "            tensor_img = tensor_img.squeeze()\n",
        "          #Apply image transformations\n",
        "          else:\n",
        "            tensor_img = transform_img(im)\n",
        "          #Append tensor to list\n",
        "          list_tensors.append(tensor_img)\n",
        "    #Apply transformations to generate several versions of original image (flipping & rotations)\n",
        "    im_list = [im_og, np.flip(im_og,axis=0).copy(),np.rot90(im_og, k=1, axes=(0, 1)).copy(),np.rot90(im_og, k=3, axes=(0, 1)).copy()]\n",
        "    #Iterate through different versions\n",
        "    for im in im_list:\n",
        "      #Apply mask transformations\n",
        "      if name == 'train_masks/train_masks':\n",
        "        tensor_img = transform_mask(im)\n",
        "        tensor_img = tensor_img.squeeze()\n",
        "      #Apply image transformations\n",
        "      else:\n",
        "        tensor_img = transform_img(im)\n",
        "      #Append tensor to list\n",
        "      list_tensors.append(tensor_img)\n",
        "  #Append list of tensors as element in dataset\n",
        "  dataset.append(list_tensors)"
      ]
    },
    {
      "cell_type": "code",
      "execution_count": null,
      "metadata": {
        "id": "CxEo-X2K8HAk"
      },
      "outputs": [],
      "source": [
        "#Load training masks from dataset\n",
        "train_masks = dataset[0]\n",
        "#Load training images from dataset\n",
        "train_images = dataset[1]\n",
        "\n",
        "train_batch = []\n",
        "\n",
        "#Append image + mask paris to list\n",
        "for i in range(len(train_images)):\n",
        "  pair = []\n",
        "  pair.append(train_images[i])\n",
        "  pair.append(train_masks[i])\n",
        "  train_batch.append(pair)"
      ]
    },
    {
      "cell_type": "code",
      "source": [
        "print(len(train_images))\n",
        "print(len(train_masks))"
      ],
      "metadata": {
        "colab": {
          "base_uri": "https://localhost:8080/"
        },
        "id": "Q1xY0IhOAF5k",
        "outputId": "a649aa1e-baf0-4595-a67d-6b89d9d6c9c5"
      },
      "execution_count": null,
      "outputs": [
        {
          "output_type": "stream",
          "name": "stdout",
          "text": [
            "5220\n",
            "5220\n"
          ]
        }
      ]
    },
    {
      "cell_type": "markdown",
      "metadata": {
        "id": "pZoA40lMcnHg"
      },
      "source": [
        "#-------------------------------------------------------------------------------------------------------------------------"
      ]
    },
    {
      "cell_type": "code",
      "execution_count": null,
      "metadata": {
        "id": "sGZdWGYQxnb4"
      },
      "outputs": [],
      "source": [
        "#Define train/validation split\n",
        "validation_split = 0.2\n",
        "shuffle_dataset = 1\n",
        "random_seed = 5\n",
        "\n",
        "# Compute the size of the dataset and the indexes\n",
        "dataset_size = len(train_batch)\n",
        "indices = list(range(dataset_size))\n",
        "\n",
        "#Get the number of validation files based on the split and the dataset size\n",
        "split = int(np.floor(validation_split * dataset_size))\n",
        "\n",
        "#Train_indices and val_indices\n",
        "if shuffle_dataset :\n",
        "    np.random.seed(random_seed)\n",
        "    np.random.shuffle(indices)\n",
        "train_indices, val_indices = indices[split:], indices[:split]\n",
        "\n",
        "train_sampler = SubsetRandomSampler(train_indices)\n",
        "valid_sampler = SubsetRandomSampler(val_indices)\n",
        "\n",
        "#Define batch size\n",
        "bs = 3\n",
        "\n",
        "#Define train and validation dataloaders based on the random sampling\n",
        "train_dataloader = DataLoader(train_batch, batch_size=bs,sampler=train_sampler,num_workers=2, pin_memory=True)\n",
        "val_dataloader = DataLoader(train_batch, batch_size=bs, sampler=valid_sampler,num_workers=2, pin_memory=True) "
      ]
    },
    {
      "cell_type": "code",
      "execution_count": null,
      "metadata": {
        "id": "Y9ezS3nQ8QXX"
      },
      "outputs": [],
      "source": [
        "#UNet architecture with pre-trained ResNet18 Encoder\n",
        "#Based on https://github.com/usuyama/pytorch-unet\n",
        "\n",
        "def convrelu(in_channels, out_channels, kernel, padding):\n",
        "  return nn.Sequential(\n",
        "    nn.Conv2d(in_channels, out_channels, kernel, padding=padding),\n",
        "    nn.ReLU(inplace=True),\n",
        "  )\n",
        "\n",
        "\n",
        "class ResNetUNet(nn.Module):\n",
        "  def __init__(self, n_class):\n",
        "    super().__init__()\n",
        "\n",
        "    self.base_model = torchvision.models.resnet18(pretrained=True)\n",
        "    self.base_layers = list(self.base_model.children())\n",
        "\n",
        "    self.layer0 = nn.Sequential(*self.base_layers[:3]) # size=(N, 64, x.H/2, x.W/2)\n",
        "    self.layer0_1x1 = convrelu(64, 64, 1, 0)\n",
        "    self.layer1 = nn.Sequential(*self.base_layers[3:5]) # size=(N, 64, x.H/4, x.W/4)\n",
        "    self.layer1_1x1 = convrelu(64, 64, 1, 0)\n",
        "    self.layer2 = self.base_layers[5]  # size=(N, 128, x.H/8, x.W/8)\n",
        "    self.layer2_1x1 = convrelu(128, 128, 1, 0)\n",
        "    self.layer3 = self.base_layers[6]  # size=(N, 256, x.H/16, x.W/16)\n",
        "    self.layer3_1x1 = convrelu(256, 256, 1, 0)\n",
        "    self.layer4 = self.base_layers[7]  # size=(N, 512, x.H/32, x.W/32)\n",
        "    self.layer4_1x1 = convrelu(512, 512, 1, 0)\n",
        "\n",
        "    self.upsample = nn.Upsample(scale_factor=2, mode='bilinear', align_corners=True)\n",
        "\n",
        "    self.conv_up3 = convrelu(256 + 512, 512, 3, 1)\n",
        "    self.conv_up2 = convrelu(128 + 512, 256, 3, 1)\n",
        "    self.conv_up1 = convrelu(64 + 256, 256, 3, 1)\n",
        "    self.conv_up0 = convrelu(64 + 256, 128, 3, 1)\n",
        "\n",
        "    self.conv_original_size0 = convrelu(3, 64, 3, 1)\n",
        "    self.conv_original_size1 = convrelu(64, 64, 3, 1)\n",
        "    self.conv_original_size2 = convrelu(64 + 128, 64, 3, 1)\n",
        "\n",
        "    self.conv_last = nn.Conv2d(64, n_class, 1)\n",
        "\n",
        "  def forward(self, input):\n",
        "    x_original = self.conv_original_size0(input)\n",
        "    x_original = self.conv_original_size1(x_original)\n",
        "\n",
        "    layer0 = self.layer0(input)\n",
        "    layer1 = self.layer1(layer0)\n",
        "    layer2 = self.layer2(layer1)\n",
        "    layer3 = self.layer3(layer2)\n",
        "    layer4 = self.layer4(layer3)\n",
        "\n",
        "    layer4 = self.layer4_1x1(layer4)\n",
        "    x = self.upsample(layer4)\n",
        "    layer3 = self.layer3_1x1(layer3)\n",
        "    x = torch.cat([x, layer3], dim=1)\n",
        "    x = self.conv_up3(x)\n",
        "\n",
        "    x = self.upsample(x)\n",
        "    layer2 = self.layer2_1x1(layer2)\n",
        "    x = torch.cat([x, layer2], dim=1)\n",
        "    x = self.conv_up2(x)\n",
        "\n",
        "    x = self.upsample(x)\n",
        "    layer1 = self.layer1_1x1(layer1)\n",
        "    x = torch.cat([x, layer1], dim=1)\n",
        "    x = self.conv_up1(x)\n",
        "\n",
        "    x = self.upsample(x)\n",
        "    layer0 = self.layer0_1x1(layer0)\n",
        "    x = torch.cat([x, layer0], dim=1)\n",
        "    x = self.conv_up0(x)\n",
        "\n",
        "    x = self.upsample(x)\n",
        "    x = torch.cat([x, x_original], dim=1)\n",
        "    x = self.conv_original_size2(x)\n",
        "\n",
        "    out = self.conv_last(x)\n",
        "\n",
        "    return out"
      ]
    },
    {
      "cell_type": "code",
      "execution_count": null,
      "metadata": {
        "colab": {
          "base_uri": "https://localhost:8080/"
        },
        "id": "yJZtqeKx8S8U",
        "outputId": "4e48e4d7-1f90-405a-b1ce-dec1be556ecb"
      },
      "outputs": [
        {
          "output_type": "stream",
          "name": "stdout",
          "text": [
            "CUDA enabled, using GPU\n"
          ]
        }
      ],
      "source": [
        "#Define model\n",
        "model = ResNetUNet(n_classes)\n",
        "\n",
        "#Define loss criterion\n",
        "criterion = CrossEntropyLoss()\n",
        "\n",
        "#Specify number of epochs\n",
        "epochs = 20\n",
        "\n",
        "#Check hardware and enable CUDA if preferred, otherwise uses CPU.\n",
        "enable_cuda = True\n",
        "\n",
        "if torch.cuda.is_available() & enable_cuda:\n",
        "    model = model.cuda()\n",
        "    criterion = CrossEntropyLoss().cuda()\n",
        "    device = torch.device(\"cuda\")\n",
        "    print(\"CUDA enabled, using GPU\")\n",
        "else:\n",
        "    device = torch.device(\"cpu\")\n",
        "    print(\"Using CPU\")\n",
        "\n",
        "#Define optimizer (should be defined after CUDA is activated)\n",
        "optimizer = optim.Adam(model.parameters(), lr=0.0001)\n",
        "\n",
        "#Define save location for model progress etc.\n",
        "save_folder=\"/content/drive/MyDrive/Courses/FDL/Kaggle/\"\n",
        "\n",
        "#Function for saving accuracy and loss\n",
        "def write_results(save_folder, epoch, train_loss, val_loss):\n",
        "    ff=open('./{}/progress.txt'.format(\"./\"),'a')\n",
        "    ff.write(' E: ')\n",
        "    ff.write(str(epoch))\n",
        "    ff.write('         ')\n",
        "    ff.write(' TRAIN_LOSS: ')\n",
        "    ff.write(str('%.3f' % train_loss))\n",
        "    ff.write(' VAL_LOSS: ')\n",
        "    ff.write(str('%.3f' % val_loss))\n",
        "    ff.write('\\n')"
      ]
    },
    {
      "cell_type": "code",
      "execution_count": null,
      "metadata": {
        "id": "njM51fbn8ZG7",
        "colab": {
          "base_uri": "https://localhost:8080/",
          "height": 1000
        },
        "outputId": "a01485b1-6982-4c63-9d1f-9fb77699cd56"
      },
      "outputs": [
        {
          "output_type": "stream",
          "name": "stderr",
          "text": [
            "  0%|          | 1/1392 [00:00<16:18,  1.42it/s]"
          ]
        },
        {
          "output_type": "stream",
          "name": "stdout",
          "text": [
            "Train (epoch 1/20) [0/1392 (0%)]\tLoss: 3.267107\n"
          ]
        },
        {
          "output_type": "stream",
          "name": "stderr",
          "text": [
            " 36%|███▌      | 501/1392 [01:57<03:27,  4.29it/s]"
          ]
        },
        {
          "output_type": "stream",
          "name": "stdout",
          "text": [
            "Train (epoch 1/20) [500/1392 (36%)]\tLoss: 1.215382\n"
          ]
        },
        {
          "output_type": "stream",
          "name": "stderr",
          "text": [
            " 72%|███████▏  | 1001/1392 [03:53<01:30,  4.30it/s]"
          ]
        },
        {
          "output_type": "stream",
          "name": "stdout",
          "text": [
            "Train (epoch 1/20) [1000/1392 (72%)]\tLoss: 0.920930\n"
          ]
        },
        {
          "output_type": "stream",
          "name": "stderr",
          "text": [
            "100%|██████████| 1392/1392 [05:24<00:00,  4.29it/s]\n",
            "100%|██████████| 348/348 [00:23<00:00, 15.04it/s]\n"
          ]
        },
        {
          "output_type": "stream",
          "name": "stdout",
          "text": [
            "TRAIN_LOSS:  1.176\n",
            "VAL_LOSS:  0.813\n"
          ]
        },
        {
          "output_type": "stream",
          "name": "stderr",
          "text": [
            "  0%|          | 1/1392 [00:00<15:49,  1.47it/s]"
          ]
        },
        {
          "output_type": "stream",
          "name": "stdout",
          "text": [
            "Train (epoch 2/20) [0/1392 (0%)]\tLoss: 0.472425\n"
          ]
        },
        {
          "output_type": "stream",
          "name": "stderr",
          "text": [
            " 36%|███▌      | 501/1392 [01:57<03:27,  4.29it/s]"
          ]
        },
        {
          "output_type": "stream",
          "name": "stdout",
          "text": [
            "Train (epoch 2/20) [500/1392 (36%)]\tLoss: 0.623961\n"
          ]
        },
        {
          "output_type": "stream",
          "name": "stderr",
          "text": [
            " 72%|███████▏  | 1001/1392 [03:53<01:31,  4.29it/s]"
          ]
        },
        {
          "output_type": "stream",
          "name": "stdout",
          "text": [
            "Train (epoch 2/20) [1000/1392 (72%)]\tLoss: 1.120025\n"
          ]
        },
        {
          "output_type": "stream",
          "name": "stderr",
          "text": [
            "100%|██████████| 1392/1392 [05:24<00:00,  4.28it/s]\n",
            "100%|██████████| 348/348 [00:23<00:00, 15.05it/s]\n"
          ]
        },
        {
          "output_type": "stream",
          "name": "stdout",
          "text": [
            "TRAIN_LOSS:  0.778\n",
            "VAL_LOSS:  0.676\n"
          ]
        },
        {
          "output_type": "stream",
          "name": "stderr",
          "text": [
            "  0%|          | 1/1392 [00:00<15:57,  1.45it/s]"
          ]
        },
        {
          "output_type": "stream",
          "name": "stdout",
          "text": [
            "Train (epoch 3/20) [0/1392 (0%)]\tLoss: 0.998669\n"
          ]
        },
        {
          "output_type": "stream",
          "name": "stderr",
          "text": [
            " 36%|███▌      | 501/1392 [01:57<03:28,  4.28it/s]"
          ]
        },
        {
          "output_type": "stream",
          "name": "stdout",
          "text": [
            "Train (epoch 3/20) [500/1392 (36%)]\tLoss: 0.609172\n"
          ]
        },
        {
          "output_type": "stream",
          "name": "stderr",
          "text": [
            " 72%|███████▏  | 1001/1392 [03:53<01:30,  4.30it/s]"
          ]
        },
        {
          "output_type": "stream",
          "name": "stdout",
          "text": [
            "Train (epoch 3/20) [1000/1392 (72%)]\tLoss: 0.616108\n"
          ]
        },
        {
          "output_type": "stream",
          "name": "stderr",
          "text": [
            "100%|██████████| 1392/1392 [05:24<00:00,  4.29it/s]\n",
            "100%|██████████| 348/348 [00:23<00:00, 15.06it/s]\n"
          ]
        },
        {
          "output_type": "stream",
          "name": "stdout",
          "text": [
            "TRAIN_LOSS:  0.684\n",
            "VAL_LOSS:  0.665\n"
          ]
        },
        {
          "output_type": "stream",
          "name": "stderr",
          "text": [
            "  0%|          | 1/1392 [00:00<15:23,  1.51it/s]"
          ]
        },
        {
          "output_type": "stream",
          "name": "stdout",
          "text": [
            "Train (epoch 4/20) [0/1392 (0%)]\tLoss: 0.714171\n"
          ]
        },
        {
          "output_type": "stream",
          "name": "stderr",
          "text": [
            " 36%|███▌      | 501/1392 [01:57<03:28,  4.28it/s]"
          ]
        },
        {
          "output_type": "stream",
          "name": "stdout",
          "text": [
            "Train (epoch 4/20) [500/1392 (36%)]\tLoss: 0.704467\n"
          ]
        },
        {
          "output_type": "stream",
          "name": "stderr",
          "text": [
            " 72%|███████▏  | 1001/1392 [03:53<01:31,  4.29it/s]"
          ]
        },
        {
          "output_type": "stream",
          "name": "stdout",
          "text": [
            "Train (epoch 4/20) [1000/1392 (72%)]\tLoss: 0.650305\n"
          ]
        },
        {
          "output_type": "stream",
          "name": "stderr",
          "text": [
            "100%|██████████| 1392/1392 [05:24<00:00,  4.29it/s]\n",
            "100%|██████████| 348/348 [00:23<00:00, 15.05it/s]\n"
          ]
        },
        {
          "output_type": "stream",
          "name": "stdout",
          "text": [
            "TRAIN_LOSS:  0.618\n",
            "VAL_LOSS:  0.609\n"
          ]
        },
        {
          "output_type": "stream",
          "name": "stderr",
          "text": [
            "  0%|          | 1/1392 [00:00<20:32,  1.13it/s]"
          ]
        },
        {
          "output_type": "stream",
          "name": "stdout",
          "text": [
            "Train (epoch 5/20) [0/1392 (0%)]\tLoss: 0.319153\n"
          ]
        },
        {
          "output_type": "stream",
          "name": "stderr",
          "text": [
            " 36%|███▌      | 501/1392 [01:57<03:26,  4.30it/s]"
          ]
        },
        {
          "output_type": "stream",
          "name": "stdout",
          "text": [
            "Train (epoch 5/20) [500/1392 (36%)]\tLoss: 0.600734\n"
          ]
        },
        {
          "output_type": "stream",
          "name": "stderr",
          "text": [
            " 72%|███████▏  | 1001/1392 [03:53<01:30,  4.30it/s]"
          ]
        },
        {
          "output_type": "stream",
          "name": "stdout",
          "text": [
            "Train (epoch 5/20) [1000/1392 (72%)]\tLoss: 0.641486\n"
          ]
        },
        {
          "output_type": "stream",
          "name": "stderr",
          "text": [
            "100%|██████████| 1392/1392 [05:25<00:00,  4.28it/s]\n",
            "100%|██████████| 348/348 [00:23<00:00, 15.04it/s]\n"
          ]
        },
        {
          "output_type": "stream",
          "name": "stdout",
          "text": [
            "TRAIN_LOSS:  0.572\n",
            "VAL_LOSS:  0.593\n"
          ]
        },
        {
          "output_type": "stream",
          "name": "stderr",
          "text": [
            "  0%|          | 1/1392 [00:00<15:45,  1.47it/s]"
          ]
        },
        {
          "output_type": "stream",
          "name": "stdout",
          "text": [
            "Train (epoch 6/20) [0/1392 (0%)]\tLoss: 0.297602\n"
          ]
        },
        {
          "output_type": "stream",
          "name": "stderr",
          "text": [
            " 36%|███▌      | 501/1392 [01:57<03:27,  4.30it/s]"
          ]
        },
        {
          "output_type": "stream",
          "name": "stdout",
          "text": [
            "Train (epoch 6/20) [500/1392 (36%)]\tLoss: 0.955366\n"
          ]
        },
        {
          "output_type": "stream",
          "name": "stderr",
          "text": [
            " 72%|███████▏  | 1001/1392 [03:53<01:31,  4.29it/s]"
          ]
        },
        {
          "output_type": "stream",
          "name": "stdout",
          "text": [
            "Train (epoch 6/20) [1000/1392 (72%)]\tLoss: 0.432088\n"
          ]
        },
        {
          "output_type": "stream",
          "name": "stderr",
          "text": [
            "100%|██████████| 1392/1392 [05:24<00:00,  4.29it/s]\n",
            "100%|██████████| 348/348 [00:23<00:00, 15.05it/s]\n"
          ]
        },
        {
          "output_type": "stream",
          "name": "stdout",
          "text": [
            "TRAIN_LOSS:  0.526\n",
            "VAL_LOSS:  0.576\n"
          ]
        },
        {
          "output_type": "stream",
          "name": "stderr",
          "text": [
            "  0%|          | 1/1392 [00:00<15:23,  1.51it/s]"
          ]
        },
        {
          "output_type": "stream",
          "name": "stdout",
          "text": [
            "Train (epoch 7/20) [0/1392 (0%)]\tLoss: 0.472315\n"
          ]
        },
        {
          "output_type": "stream",
          "name": "stderr",
          "text": [
            " 36%|███▌      | 501/1392 [01:57<03:27,  4.29it/s]"
          ]
        },
        {
          "output_type": "stream",
          "name": "stdout",
          "text": [
            "Train (epoch 7/20) [500/1392 (36%)]\tLoss: 0.386403\n"
          ]
        },
        {
          "output_type": "stream",
          "name": "stderr",
          "text": [
            " 72%|███████▏  | 1001/1392 [03:53<01:30,  4.30it/s]"
          ]
        },
        {
          "output_type": "stream",
          "name": "stdout",
          "text": [
            "Train (epoch 7/20) [1000/1392 (72%)]\tLoss: 0.348699\n"
          ]
        },
        {
          "output_type": "stream",
          "name": "stderr",
          "text": [
            "100%|██████████| 1392/1392 [05:24<00:00,  4.29it/s]\n",
            "100%|██████████| 348/348 [00:23<00:00, 15.04it/s]\n"
          ]
        },
        {
          "output_type": "stream",
          "name": "stdout",
          "text": [
            "TRAIN_LOSS:  0.482\n",
            "VAL_LOSS:  0.587\n"
          ]
        },
        {
          "output_type": "stream",
          "name": "stderr",
          "text": [
            "  0%|          | 1/1392 [00:00<16:01,  1.45it/s]"
          ]
        },
        {
          "output_type": "stream",
          "name": "stdout",
          "text": [
            "Train (epoch 8/20) [0/1392 (0%)]\tLoss: 0.478942\n"
          ]
        },
        {
          "output_type": "stream",
          "name": "stderr",
          "text": [
            " 36%|███▌      | 501/1392 [01:57<03:27,  4.30it/s]"
          ]
        },
        {
          "output_type": "stream",
          "name": "stdout",
          "text": [
            "Train (epoch 8/20) [500/1392 (36%)]\tLoss: 0.433499\n"
          ]
        },
        {
          "output_type": "stream",
          "name": "stderr",
          "text": [
            " 72%|███████▏  | 1001/1392 [03:53<01:31,  4.29it/s]"
          ]
        },
        {
          "output_type": "stream",
          "name": "stdout",
          "text": [
            "Train (epoch 8/20) [1000/1392 (72%)]\tLoss: 0.278404\n"
          ]
        },
        {
          "output_type": "stream",
          "name": "stderr",
          "text": [
            "100%|██████████| 1392/1392 [05:24<00:00,  4.29it/s]\n",
            "100%|██████████| 348/348 [00:23<00:00, 15.04it/s]\n"
          ]
        },
        {
          "output_type": "stream",
          "name": "stdout",
          "text": [
            "TRAIN_LOSS:  0.449\n",
            "VAL_LOSS:  0.564\n"
          ]
        },
        {
          "output_type": "stream",
          "name": "stderr",
          "text": [
            "  0%|          | 1/1392 [00:00<16:07,  1.44it/s]"
          ]
        },
        {
          "output_type": "stream",
          "name": "stdout",
          "text": [
            "Train (epoch 9/20) [0/1392 (0%)]\tLoss: 0.524003\n"
          ]
        },
        {
          "output_type": "stream",
          "name": "stderr",
          "text": [
            " 36%|███▌      | 501/1392 [01:57<03:27,  4.30it/s]"
          ]
        },
        {
          "output_type": "stream",
          "name": "stdout",
          "text": [
            "Train (epoch 9/20) [500/1392 (36%)]\tLoss: 0.508701\n"
          ]
        },
        {
          "output_type": "stream",
          "name": "stderr",
          "text": [
            " 72%|███████▏  | 1001/1392 [03:53<01:30,  4.30it/s]"
          ]
        },
        {
          "output_type": "stream",
          "name": "stdout",
          "text": [
            "Train (epoch 9/20) [1000/1392 (72%)]\tLoss: 0.499723\n"
          ]
        },
        {
          "output_type": "stream",
          "name": "stderr",
          "text": [
            "100%|██████████| 1392/1392 [05:24<00:00,  4.28it/s]\n",
            "100%|██████████| 348/348 [00:23<00:00, 15.05it/s]\n"
          ]
        },
        {
          "output_type": "stream",
          "name": "stdout",
          "text": [
            "TRAIN_LOSS:  0.415\n",
            "VAL_LOSS:  0.558\n"
          ]
        },
        {
          "output_type": "stream",
          "name": "stderr",
          "text": [
            "  0%|          | 1/1392 [00:00<15:49,  1.47it/s]"
          ]
        },
        {
          "output_type": "stream",
          "name": "stdout",
          "text": [
            "Train (epoch 10/20) [0/1392 (0%)]\tLoss: 0.337704\n"
          ]
        },
        {
          "output_type": "stream",
          "name": "stderr",
          "text": [
            " 36%|███▌      | 501/1392 [01:57<03:27,  4.30it/s]"
          ]
        },
        {
          "output_type": "stream",
          "name": "stdout",
          "text": [
            "Train (epoch 10/20) [500/1392 (36%)]\tLoss: 0.401391\n"
          ]
        },
        {
          "output_type": "stream",
          "name": "stderr",
          "text": [
            " 72%|███████▏  | 1001/1392 [03:53<01:30,  4.30it/s]"
          ]
        },
        {
          "output_type": "stream",
          "name": "stdout",
          "text": [
            "Train (epoch 10/20) [1000/1392 (72%)]\tLoss: 0.405620\n"
          ]
        },
        {
          "output_type": "stream",
          "name": "stderr",
          "text": [
            "100%|██████████| 1392/1392 [05:24<00:00,  4.28it/s]\n",
            "100%|██████████| 348/348 [00:23<00:00, 15.06it/s]\n"
          ]
        },
        {
          "output_type": "stream",
          "name": "stdout",
          "text": [
            "TRAIN_LOSS:  0.393\n",
            "VAL_LOSS:  0.601\n"
          ]
        },
        {
          "output_type": "stream",
          "name": "stderr",
          "text": [
            "  0%|          | 1/1392 [00:00<15:47,  1.47it/s]"
          ]
        },
        {
          "output_type": "stream",
          "name": "stdout",
          "text": [
            "Train (epoch 11/20) [0/1392 (0%)]\tLoss: 0.410955\n"
          ]
        },
        {
          "output_type": "stream",
          "name": "stderr",
          "text": [
            " 36%|███▌      | 501/1392 [01:57<03:27,  4.29it/s]"
          ]
        },
        {
          "output_type": "stream",
          "name": "stdout",
          "text": [
            "Train (epoch 11/20) [500/1392 (36%)]\tLoss: 0.276168\n"
          ]
        },
        {
          "output_type": "stream",
          "name": "stderr",
          "text": [
            " 72%|███████▏  | 1001/1392 [03:53<01:30,  4.30it/s]"
          ]
        },
        {
          "output_type": "stream",
          "name": "stdout",
          "text": [
            "Train (epoch 11/20) [1000/1392 (72%)]\tLoss: 0.460418\n"
          ]
        },
        {
          "output_type": "stream",
          "name": "stderr",
          "text": [
            "100%|██████████| 1392/1392 [05:24<00:00,  4.28it/s]\n",
            "100%|██████████| 348/348 [00:23<00:00, 15.04it/s]\n"
          ]
        },
        {
          "output_type": "stream",
          "name": "stdout",
          "text": [
            "TRAIN_LOSS:  0.364\n",
            "VAL_LOSS:  0.546\n"
          ]
        },
        {
          "output_type": "stream",
          "name": "stderr",
          "text": [
            "  0%|          | 1/1392 [00:00<15:44,  1.47it/s]"
          ]
        },
        {
          "output_type": "stream",
          "name": "stdout",
          "text": [
            "Train (epoch 12/20) [0/1392 (0%)]\tLoss: 0.357615\n"
          ]
        },
        {
          "output_type": "stream",
          "name": "stderr",
          "text": [
            " 36%|███▌      | 501/1392 [01:57<03:27,  4.30it/s]"
          ]
        },
        {
          "output_type": "stream",
          "name": "stdout",
          "text": [
            "Train (epoch 12/20) [500/1392 (36%)]\tLoss: 0.248921\n"
          ]
        },
        {
          "output_type": "stream",
          "name": "stderr",
          "text": [
            " 72%|███████▏  | 1001/1392 [03:53<01:31,  4.29it/s]"
          ]
        },
        {
          "output_type": "stream",
          "name": "stdout",
          "text": [
            "Train (epoch 12/20) [1000/1392 (72%)]\tLoss: 0.404236\n"
          ]
        },
        {
          "output_type": "stream",
          "name": "stderr",
          "text": [
            "100%|██████████| 1392/1392 [05:24<00:00,  4.28it/s]\n",
            "100%|██████████| 348/348 [00:23<00:00, 15.01it/s]\n"
          ]
        },
        {
          "output_type": "stream",
          "name": "stdout",
          "text": [
            "TRAIN_LOSS:  0.337\n",
            "VAL_LOSS:  0.560\n"
          ]
        },
        {
          "output_type": "stream",
          "name": "stderr",
          "text": [
            "  0%|          | 1/1392 [00:00<15:37,  1.48it/s]"
          ]
        },
        {
          "output_type": "stream",
          "name": "stdout",
          "text": [
            "Train (epoch 13/20) [0/1392 (0%)]\tLoss: 0.225134\n"
          ]
        },
        {
          "output_type": "stream",
          "name": "stderr",
          "text": [
            " 36%|███▌      | 501/1392 [01:57<03:27,  4.29it/s]"
          ]
        },
        {
          "output_type": "stream",
          "name": "stdout",
          "text": [
            "Train (epoch 13/20) [500/1392 (36%)]\tLoss: 0.302468\n"
          ]
        },
        {
          "output_type": "stream",
          "name": "stderr",
          "text": [
            " 72%|███████▏  | 1001/1392 [03:53<01:30,  4.30it/s]"
          ]
        },
        {
          "output_type": "stream",
          "name": "stdout",
          "text": [
            "Train (epoch 13/20) [1000/1392 (72%)]\tLoss: 0.369000\n"
          ]
        },
        {
          "output_type": "stream",
          "name": "stderr",
          "text": [
            "100%|██████████| 1392/1392 [05:24<00:00,  4.28it/s]\n",
            "100%|██████████| 348/348 [00:23<00:00, 15.03it/s]\n"
          ]
        },
        {
          "output_type": "stream",
          "name": "stdout",
          "text": [
            "TRAIN_LOSS:  0.312\n",
            "VAL_LOSS:  0.543\n"
          ]
        },
        {
          "output_type": "stream",
          "name": "stderr",
          "text": [
            "  0%|          | 1/1392 [00:00<15:57,  1.45it/s]"
          ]
        },
        {
          "output_type": "stream",
          "name": "stdout",
          "text": [
            "Train (epoch 14/20) [0/1392 (0%)]\tLoss: 0.246981\n"
          ]
        },
        {
          "output_type": "stream",
          "name": "stderr",
          "text": [
            " 36%|███▌      | 501/1392 [01:57<03:27,  4.30it/s]"
          ]
        },
        {
          "output_type": "stream",
          "name": "stdout",
          "text": [
            "Train (epoch 14/20) [500/1392 (36%)]\tLoss: 0.193922\n"
          ]
        },
        {
          "output_type": "stream",
          "name": "stderr",
          "text": [
            " 72%|███████▏  | 1001/1392 [03:53<01:31,  4.29it/s]"
          ]
        },
        {
          "output_type": "stream",
          "name": "stdout",
          "text": [
            "Train (epoch 14/20) [1000/1392 (72%)]\tLoss: 0.125080\n"
          ]
        },
        {
          "output_type": "stream",
          "name": "stderr",
          "text": [
            "100%|██████████| 1392/1392 [05:24<00:00,  4.28it/s]\n",
            "100%|██████████| 348/348 [00:23<00:00, 15.05it/s]\n"
          ]
        },
        {
          "output_type": "stream",
          "name": "stdout",
          "text": [
            "TRAIN_LOSS:  0.297\n",
            "VAL_LOSS:  0.574\n"
          ]
        },
        {
          "output_type": "stream",
          "name": "stderr",
          "text": [
            "  0%|          | 1/1392 [00:00<15:37,  1.48it/s]"
          ]
        },
        {
          "output_type": "stream",
          "name": "stdout",
          "text": [
            "Train (epoch 15/20) [0/1392 (0%)]\tLoss: 0.264895\n"
          ]
        },
        {
          "output_type": "stream",
          "name": "stderr",
          "text": [
            " 36%|███▌      | 501/1392 [01:57<03:28,  4.28it/s]"
          ]
        },
        {
          "output_type": "stream",
          "name": "stdout",
          "text": [
            "Train (epoch 15/20) [500/1392 (36%)]\tLoss: 0.307513\n"
          ]
        },
        {
          "output_type": "stream",
          "name": "stderr",
          "text": [
            " 72%|███████▏  | 1001/1392 [03:53<01:31,  4.29it/s]"
          ]
        },
        {
          "output_type": "stream",
          "name": "stdout",
          "text": [
            "Train (epoch 15/20) [1000/1392 (72%)]\tLoss: 0.211518\n"
          ]
        },
        {
          "output_type": "stream",
          "name": "stderr",
          "text": [
            "100%|██████████| 1392/1392 [05:24<00:00,  4.28it/s]\n",
            "100%|██████████| 348/348 [00:23<00:00, 15.07it/s]\n"
          ]
        },
        {
          "output_type": "stream",
          "name": "stdout",
          "text": [
            "TRAIN_LOSS:  0.282\n",
            "VAL_LOSS:  0.599\n"
          ]
        },
        {
          "output_type": "stream",
          "name": "stderr",
          "text": [
            "  0%|          | 1/1392 [00:00<15:05,  1.54it/s]"
          ]
        },
        {
          "output_type": "stream",
          "name": "stdout",
          "text": [
            "Train (epoch 16/20) [0/1392 (0%)]\tLoss: 0.289961\n"
          ]
        },
        {
          "output_type": "stream",
          "name": "stderr",
          "text": [
            " 36%|███▌      | 501/1392 [01:57<03:27,  4.29it/s]"
          ]
        },
        {
          "output_type": "stream",
          "name": "stdout",
          "text": [
            "Train (epoch 16/20) [500/1392 (36%)]\tLoss: 0.239569\n"
          ]
        },
        {
          "output_type": "stream",
          "name": "stderr",
          "text": [
            " 72%|███████▏  | 1001/1392 [03:53<01:31,  4.29it/s]"
          ]
        },
        {
          "output_type": "stream",
          "name": "stdout",
          "text": [
            "Train (epoch 16/20) [1000/1392 (72%)]\tLoss: 0.362066\n"
          ]
        },
        {
          "output_type": "stream",
          "name": "stderr",
          "text": [
            "100%|██████████| 1392/1392 [05:24<00:00,  4.29it/s]\n",
            "100%|██████████| 348/348 [00:23<00:00, 15.06it/s]\n"
          ]
        },
        {
          "output_type": "stream",
          "name": "stdout",
          "text": [
            "TRAIN_LOSS:  0.274\n",
            "VAL_LOSS:  0.588\n"
          ]
        },
        {
          "output_type": "stream",
          "name": "stderr",
          "text": [
            "  0%|          | 1/1392 [00:00<15:49,  1.46it/s]"
          ]
        },
        {
          "output_type": "stream",
          "name": "stdout",
          "text": [
            "Train (epoch 17/20) [0/1392 (0%)]\tLoss: 0.380702\n"
          ]
        },
        {
          "output_type": "stream",
          "name": "stderr",
          "text": [
            " 36%|███▌      | 501/1392 [01:57<03:27,  4.29it/s]"
          ]
        },
        {
          "output_type": "stream",
          "name": "stdout",
          "text": [
            "Train (epoch 17/20) [500/1392 (36%)]\tLoss: 0.173365\n"
          ]
        },
        {
          "output_type": "stream",
          "name": "stderr",
          "text": [
            " 72%|███████▏  | 1001/1392 [03:53<01:30,  4.30it/s]"
          ]
        },
        {
          "output_type": "stream",
          "name": "stdout",
          "text": [
            "Train (epoch 17/20) [1000/1392 (72%)]\tLoss: 0.301360\n"
          ]
        },
        {
          "output_type": "stream",
          "name": "stderr",
          "text": [
            "100%|██████████| 1392/1392 [05:24<00:00,  4.28it/s]\n",
            "100%|██████████| 348/348 [00:23<00:00, 15.07it/s]\n"
          ]
        },
        {
          "output_type": "stream",
          "name": "stdout",
          "text": [
            "TRAIN_LOSS:  0.253\n",
            "VAL_LOSS:  0.610\n"
          ]
        },
        {
          "output_type": "stream",
          "name": "stderr",
          "text": [
            "  0%|          | 1/1392 [00:00<15:40,  1.48it/s]"
          ]
        },
        {
          "output_type": "stream",
          "name": "stdout",
          "text": [
            "Train (epoch 18/20) [0/1392 (0%)]\tLoss: 0.178324\n"
          ]
        },
        {
          "output_type": "stream",
          "name": "stderr",
          "text": [
            " 36%|███▌      | 501/1392 [01:57<03:27,  4.30it/s]"
          ]
        },
        {
          "output_type": "stream",
          "name": "stdout",
          "text": [
            "Train (epoch 18/20) [500/1392 (36%)]\tLoss: 0.336639\n"
          ]
        },
        {
          "output_type": "stream",
          "name": "stderr",
          "text": [
            " 72%|███████▏  | 1001/1392 [03:53<01:30,  4.31it/s]"
          ]
        },
        {
          "output_type": "stream",
          "name": "stdout",
          "text": [
            "Train (epoch 18/20) [1000/1392 (72%)]\tLoss: 0.409401\n"
          ]
        },
        {
          "output_type": "stream",
          "name": "stderr",
          "text": [
            "100%|██████████| 1392/1392 [05:24<00:00,  4.29it/s]\n",
            "100%|██████████| 348/348 [00:23<00:00, 15.10it/s]\n"
          ]
        },
        {
          "output_type": "stream",
          "name": "stdout",
          "text": [
            "TRAIN_LOSS:  0.262\n",
            "VAL_LOSS:  0.611\n"
          ]
        },
        {
          "output_type": "stream",
          "name": "stderr",
          "text": [
            "  0%|          | 1/1392 [00:00<15:18,  1.51it/s]"
          ]
        },
        {
          "output_type": "stream",
          "name": "stdout",
          "text": [
            "Train (epoch 19/20) [0/1392 (0%)]\tLoss: 0.329704\n"
          ]
        },
        {
          "output_type": "stream",
          "name": "stderr",
          "text": [
            " 36%|███▌      | 501/1392 [01:57<03:27,  4.30it/s]"
          ]
        },
        {
          "output_type": "stream",
          "name": "stdout",
          "text": [
            "Train (epoch 19/20) [500/1392 (36%)]\tLoss: 0.235351\n"
          ]
        },
        {
          "output_type": "stream",
          "name": "stderr",
          "text": [
            " 72%|███████▏  | 1001/1392 [03:53<01:31,  4.30it/s]"
          ]
        },
        {
          "output_type": "stream",
          "name": "stdout",
          "text": [
            "Train (epoch 19/20) [1000/1392 (72%)]\tLoss: 0.221041\n"
          ]
        },
        {
          "output_type": "stream",
          "name": "stderr",
          "text": [
            "100%|██████████| 1392/1392 [05:24<00:00,  4.29it/s]\n",
            "100%|██████████| 348/348 [00:23<00:00, 15.04it/s]\n"
          ]
        },
        {
          "output_type": "stream",
          "name": "stdout",
          "text": [
            "TRAIN_LOSS:  0.237\n",
            "VAL_LOSS:  0.609\n"
          ]
        },
        {
          "output_type": "stream",
          "name": "stderr",
          "text": [
            "  0%|          | 1/1392 [00:00<15:16,  1.52it/s]"
          ]
        },
        {
          "output_type": "stream",
          "name": "stdout",
          "text": [
            "Train (epoch 20/20) [0/1392 (0%)]\tLoss: 0.192335\n"
          ]
        },
        {
          "output_type": "stream",
          "name": "stderr",
          "text": [
            " 36%|███▌      | 501/1392 [01:57<03:27,  4.30it/s]"
          ]
        },
        {
          "output_type": "stream",
          "name": "stdout",
          "text": [
            "Train (epoch 20/20) [500/1392 (36%)]\tLoss: 0.122968\n"
          ]
        },
        {
          "output_type": "stream",
          "name": "stderr",
          "text": [
            " 72%|███████▏  | 1001/1392 [03:53<01:30,  4.30it/s]"
          ]
        },
        {
          "output_type": "stream",
          "name": "stdout",
          "text": [
            "Train (epoch 20/20) [1000/1392 (72%)]\tLoss: 0.179595\n"
          ]
        },
        {
          "output_type": "stream",
          "name": "stderr",
          "text": [
            "100%|██████████| 1392/1392 [05:24<00:00,  4.28it/s]\n",
            "100%|██████████| 348/348 [00:23<00:00, 15.02it/s]\n"
          ]
        },
        {
          "output_type": "stream",
          "name": "stdout",
          "text": [
            "TRAIN_LOSS:  0.236\n",
            "VAL_LOSS:  0.648\n"
          ]
        },
        {
          "output_type": "display_data",
          "data": {
            "image/png": "[encoded data removed]",
            "text/plain": [
              "<Figure size 432x288 with 1 Axes>"
            ]
          },
          "metadata": {
            "needs_background": "light"
          }
        }
      ],
      "source": [
        "total_train_losses = []\n",
        "total_val_losses = []\n",
        "\n",
        "for epoch in range(1,epochs+1):\n",
        "    \n",
        "    #Training\n",
        "    model.train()\n",
        "    train_losses = []\n",
        "\n",
        "    #Iterate through training batches\n",
        "    for i, batch, in enumerate(tqdm(train_dataloader)):\n",
        "        img_batch, lbl_batch = batch\n",
        "\n",
        "        #Transfer images and masks to GPU\n",
        "        img_batch = img_batch.to(device)\n",
        "        lbl_batch = lbl_batch.to(device)\n",
        "        \n",
        "        optimizer.zero_grad()\n",
        "\n",
        "        #Compute output\n",
        "        outputs = model(img_batch.float())\n",
        "\n",
        "        #Compute loss\n",
        "        loss=criterion(outputs, lbl_batch.long())\n",
        "        \n",
        "        loss.backward()\n",
        "        optimizer.step()\n",
        "\n",
        "        train_losses.append(loss.item())\n",
        "\n",
        "        if i % 500 == 0:\n",
        "            print('Train (epoch {}/{}) [{}/{} ({:.0f}%)]\\tLoss: {:.6f}'.format(\n",
        "                epoch, epochs, i, len(train_dataloader),100.*i/len(train_dataloader), loss.item()))\n",
        "\n",
        "    train_loss_mean = np.mean(train_losses)\n",
        "    total_train_losses.append(train_loss_mean)\n",
        "\n",
        "    #Validation\n",
        "    model.eval()\n",
        "    val_losses = []\n",
        "\n",
        "    #Iterate through validation batches\n",
        "    for i, batch, in enumerate(tqdm(val_dataloader)):\n",
        "        img_batch, lbl_batch = batch\n",
        "\n",
        "        #Transfer images and masks to GPU\n",
        "        img_batch = img_batch.to(device)\n",
        "        lbl_batch = lbl_batch.to(device)\n",
        "\n",
        "        #Compute output\n",
        "        outputs=model(img_batch.float())\n",
        "\n",
        "        #Compute loss\n",
        "        loss=criterion(outputs, lbl_batch.long())\n",
        "\n",
        "        val_losses.append(loss.item())\n",
        "\n",
        "    val_loss_mean = np.mean(val_losses)\n",
        "    total_val_losses.append(val_loss_mean)\n",
        "\n",
        "    print('TRAIN_LOSS: ', '%.3f' % train_loss_mean)\n",
        "    print('VAL_LOSS: ', '%.3f' % val_loss_mean)\n",
        "\n",
        "    write_results(save_folder, epoch, train_loss_mean, val_loss_mean)\n",
        "\n",
        "    #Save model\n",
        "    torch.save(model.state_dict(), save_folder + 'model.pt'.format(epoch))\n",
        "\n",
        "#Plot graph\n",
        "plt.plot(list(range(epochs+1))[1:], total_train_losses)\n",
        "plt.plot(list(range(epochs+1))[1:], total_val_losses)\n",
        "plt.legend(['train', 'val'])\n",
        "plt.xlabel('Epochs')\n",
        "plt.ylabel('Loss')\n",
        "plt.show()"
      ]
    },
    {
      "cell_type": "code",
      "source": [
        "#Define test image size\n",
        "size= 512, 512\n",
        "\n",
        "#Image transformations, adapted to the transformations originally used to train ResNet\n",
        "transform = transforms.Compose([transforms.ToTensor(),transforms.Normalize(mean=[0.485, 0.456, 0.406],\n",
        "                                 std=[0.229, 0.224, 0.225])])\n",
        "\n",
        "#Define directory\n",
        "directory_names = ['test_images/test_images']\n",
        "dataset = []\n",
        "\n",
        "#Iterate through every directory\n",
        "for name in directory_names:\n",
        "  directory = os.fsencode(name)\n",
        "  list_tensors = []\n",
        "  #Iterate through every file \n",
        "  for file in os.listdir(directory):\n",
        "    filename = os.fsdecode(file)\n",
        "    #Load image\n",
        "    im = cv2.imread(name + '/' + filename)\n",
        "    #Convert image to np array\n",
        "    im = np.array(im)\n",
        "    #Resize\n",
        "    im = cv2.resize(im, dsize= size,interpolation = cv2.INTER_NEAREST)\n",
        "    #Apply image transformations\n",
        "    tensor_img = transform(im)\n",
        "    #Append tensor to list with filename\n",
        "    list_tensors.append((tensor_img,filename))\n",
        "\n",
        "#Load test tensors into dataloder with batchsize 2\n",
        "test_dataloader = DataLoader(list_tensors, batch_size=2, shuffle=True)"
      ],
      "metadata": {
        "id": "j41HbA_XMEEx"
      },
      "execution_count": null,
      "outputs": []
    },
    {
      "cell_type": "code",
      "execution_count": null,
      "metadata": {
        "colab": {
          "base_uri": "https://localhost:8080/"
        },
        "id": "Y7rUeSGBBitp",
        "outputId": "35364400-b0cb-40c2-c518-22690b80ee8c"
      },
      "outputs": [
        {
          "output_type": "stream",
          "name": "stdout",
          "text": [
            "rm: cannot remove 'test_preds': No such file or directory\n"
          ]
        },
        {
          "output_type": "stream",
          "name": "stderr",
          "text": [
            "100%|██████████| 56/56 [00:06<00:00,  8.69it/s]\n"
          ]
        }
      ],
      "source": [
        "#Delete existing predictions\n",
        "!rm -r test_preds\n",
        "#Create prediciton directory\n",
        "!mkdir test_preds\n",
        "#Define directory\n",
        "dir = 'test_preds/'\n",
        "\n",
        "#Iterate through test images \n",
        "for i, batch, in enumerate(tqdm(test_dataloader)):\n",
        "  img_batch, filename = batch\n",
        "\n",
        "  #Load test images to GPU\n",
        "  img_batch = img_batch.to(device)\n",
        "\n",
        "  #Compute output\n",
        "  output = model(img_batch.float())\n",
        "  \n",
        "  #Transfer output from GPU and convert to numpy\n",
        "  output= output.cpu().detach().numpy()\n",
        "\n",
        "  #Iterate through batch\n",
        "  for i in range(2):\n",
        "    #Define image\n",
        "    output2 = output[i]\n",
        "    #Define filename\n",
        "    filename2 = filename[i][:-4]\n",
        "    mask = np.argmax(output2, axis=0)\n",
        "    #Define save path\n",
        "    name = dir + filename2\n",
        "    #Convert array into image\n",
        "    img = Image.fromarray(mask.astype(np.uint8))\n",
        "    #Save mask as image\n",
        "    img.save(name+'.png')"
      ]
    },
    {
      "cell_type": "code",
      "execution_count": null,
      "metadata": {
        "id": "fQL0WR0DB-Ml",
        "colab": {
          "base_uri": "https://localhost:8080/"
        },
        "outputId": "ba4bc742-77ae-4023-bcec-5d346cfcc566"
      },
      "outputs": [
        {
          "output_type": "stream",
          "name": "stdout",
          "text": [
            "0/112\n",
            "[[ 0  0  1 ...  0  0  0]\n",
            " [ 0  0  1 ...  0  0  0]\n",
            " [ 1  1  1 ... 23  0  0]\n",
            " ...\n",
            " [ 0  0  0 ...  0  0  0]\n",
            " [ 0  0  0 ...  0  0  0]\n",
            " [ 0  0  0 ...  0  0  0]]\n",
            "1/112\n",
            "[[ 0  0  0 ...  6  0  0]\n",
            " [ 0  0  0 ...  6  0  0]\n",
            " [ 0  0 21 ...  6  6  6]\n",
            " ...\n",
            " [ 0  0  0 ...  6  6  6]\n",
            " [ 0  0  0 ...  6  0  0]\n",
            " [ 0  0  0 ...  6  0  0]]\n",
            "2/112\n",
            "[[0 0 0 ... 0 0 0]\n",
            " [0 0 0 ... 0 0 0]\n",
            " [0 0 1 ... 0 0 0]\n",
            " ...\n",
            " [0 0 6 ... 0 0 0]\n",
            " [0 0 0 ... 0 0 0]\n",
            " [0 0 0 ... 0 0 0]]\n",
            "3/112\n",
            "[[0 0 0 ... 0 0 0]\n",
            " [0 0 0 ... 0 0 0]\n",
            " [0 0 0 ... 5 0 0]\n",
            " ...\n",
            " [0 0 6 ... 1 1 1]\n",
            " [0 0 0 ... 1 1 1]\n",
            " [0 0 0 ... 1 1 1]]\n",
            "4/112\n",
            "[[0 0 0 ... 6 0 0]\n",
            " [0 0 0 ... 6 0 0]\n",
            " [0 0 0 ... 6 6 6]\n",
            " ...\n",
            " [0 0 0 ... 0 0 0]\n",
            " [0 0 0 ... 0 0 0]\n",
            " [0 0 0 ... 0 0 0]]\n",
            "5/112\n",
            "[[0 0 0 ... 5 0 0]\n",
            " [0 0 0 ... 5 0 0]\n",
            " [5 5 5 ... 5 5 5]\n",
            " ...\n",
            " [0 0 0 ... 0 0 0]\n",
            " [0 0 0 ... 0 0 0]\n",
            " [0 0 0 ... 0 0 0]]\n",
            "6/112\n",
            "[[ 0  0  1 ...  1  0  0]\n",
            " [ 0  0  1 ...  1  0  0]\n",
            " [ 1  1  1 ...  1  1  1]\n",
            " ...\n",
            " [23 23 23 ... 23 23 23]\n",
            " [23 23 23 ... 23 23 23]\n",
            " [23 23 23 ... 23 23 23]]\n",
            "7/112\n",
            "[[ 0  0 23 ...  0  0  0]\n",
            " [ 0  0 23 ...  0  0  0]\n",
            " [23 23 23 ... 23  0  0]\n",
            " ...\n",
            " [23 23 23 ... 23 23 23]\n",
            " [23 23 23 ... 23  0  0]\n",
            " [23 23 23 ... 23  0  0]]\n",
            "8/112\n",
            "[[ 0  0  1 ... 22  0  0]\n",
            " [ 0  0  1 ... 22  0  0]\n",
            " [ 1  1  1 ... 22 22 22]\n",
            " ...\n",
            " [ 0  0  5 ... 22  0  0]\n",
            " [ 0  0  0 ... 22  0  0]\n",
            " [ 0  0  0 ... 22  0  0]]\n",
            "9/112\n",
            "[[0 0 0 ... 0 0 0]\n",
            " [0 0 0 ... 0 0 0]\n",
            " [0 0 0 ... 0 0 0]\n",
            " ...\n",
            " [0 0 0 ... 0 0 0]\n",
            " [0 0 0 ... 0 0 0]\n",
            " [0 0 0 ... 0 0 0]]\n",
            "10/112\n",
            "[[0 0 0 ... 0 0 0]\n",
            " [0 0 0 ... 0 0 0]\n",
            " [0 0 6 ... 0 0 0]\n",
            " ...\n",
            " [0 0 0 ... 0 0 0]\n",
            " [0 0 0 ... 0 0 0]\n",
            " [0 0 0 ... 0 0 0]]\n",
            "11/112\n",
            "[[ 0  0  0 ... 22 22 22]\n",
            " [ 0  0  0 ... 22 22 22]\n",
            " [ 0  0  5 ... 22 22 22]\n",
            " ...\n",
            " [ 1  1  1 ...  6  0  0]\n",
            " [ 0  0  1 ...  0  0  0]\n",
            " [ 0  0  1 ...  0  0  0]]\n",
            "12/112\n",
            "[[ 0  0 23 ... 23 23 23]\n",
            " [ 0  0 23 ... 23 23 23]\n",
            " [23 23 23 ... 23 23 23]\n",
            " ...\n",
            " [ 6  6  6 ...  6  0  0]\n",
            " [ 0  0  6 ...  0  0  0]\n",
            " [ 0  0  6 ...  0  0  0]]\n",
            "13/112\n",
            "[[0 0 1 ... 6 0 0]\n",
            " [0 0 1 ... 6 0 0]\n",
            " [1 1 1 ... 6 6 6]\n",
            " ...\n",
            " [0 0 5 ... 5 5 5]\n",
            " [0 0 0 ... 5 0 0]\n",
            " [0 0 0 ... 5 0 0]]\n",
            "14/112\n",
            "[[0 0 0 ... 6 0 0]\n",
            " [0 0 0 ... 6 0 0]\n",
            " [0 0 0 ... 6 6 6]\n",
            " ...\n",
            " [5 5 5 ... 0 0 0]\n",
            " [0 0 5 ... 0 0 0]\n",
            " [0 0 5 ... 0 0 0]]\n",
            "15/112\n",
            "[[0 0 0 ... 5 0 0]\n",
            " [0 0 0 ... 5 0 0]\n",
            " [0 0 5 ... 5 0 0]\n",
            " ...\n",
            " [0 0 0 ... 0 0 0]\n",
            " [0 0 0 ... 0 0 0]\n",
            " [0 0 0 ... 0 0 0]]\n",
            "16/112\n",
            "[[0 0 0 ... 6 0 0]\n",
            " [0 0 0 ... 6 0 0]\n",
            " [0 0 6 ... 6 6 6]\n",
            " ...\n",
            " [0 0 6 ... 6 6 6]\n",
            " [0 0 0 ... 6 0 0]\n",
            " [0 0 0 ... 6 0 0]]\n",
            "17/112\n",
            "[[ 0  0  0 ...  0  0  0]\n",
            " [ 0  0  0 ...  0  0  0]\n",
            " [ 0  0 22 ...  6  0  0]\n",
            " ...\n",
            " [ 0  0  0 ...  0  0  0]\n",
            " [ 0  0  0 ...  0  0  0]\n",
            " [ 0  0  0 ...  0  0  0]]\n",
            "18/112\n",
            "[[ 0  0  0 ...  0  0  0]\n",
            " [ 0  0  0 ...  0  0  0]\n",
            " [ 0  0 23 ...  0  0  0]\n",
            " ...\n",
            " [23 23 23 ... 23 23 23]\n",
            " [23 23 23 ... 23  0  0]\n",
            " [23 23 23 ... 23  0  0]]\n",
            "19/112\n",
            "[[ 0  0 23 ... 23 23 23]\n",
            " [ 0  0 23 ... 23 23 23]\n",
            " [23 23 23 ... 23 23 23]\n",
            " ...\n",
            " [ 1  1  1 ... 23 23 23]\n",
            " [ 1  1  1 ... 23 23 23]\n",
            " [ 1  1  1 ... 23 23 23]]\n",
            "20/112\n",
            "[[0 0 0 ... 0 0 0]\n",
            " [0 0 0 ... 0 0 0]\n",
            " [0 0 0 ... 0 0 0]\n",
            " ...\n",
            " [0 0 0 ... 0 0 0]\n",
            " [0 0 0 ... 0 0 0]\n",
            " [0 0 0 ... 0 0 0]]\n",
            "21/112\n",
            "[[ 0  0  0 ...  1  0  0]\n",
            " [ 0  0  0 ...  1  0  0]\n",
            " [ 0  0  6 ...  1  1  1]\n",
            " ...\n",
            " [23 23 23 ...  0  0  0]\n",
            " [23 23 23 ...  0  0  0]\n",
            " [23 23 23 ...  0  0  0]]\n",
            "22/112\n",
            "[[ 0  0 21 ...  0  0  0]\n",
            " [ 0  0 21 ...  0  0  0]\n",
            " [ 0  0 21 ...  0  0  0]\n",
            " ...\n",
            " [ 0  0  6 ...  1  1  1]\n",
            " [ 0  0  0 ...  1  0  0]\n",
            " [ 0  0  0 ...  1  0  0]]\n",
            "23/112\n",
            "[[ 0  0 23 ... 23 23 23]\n",
            " [ 0  0 23 ... 23 23 23]\n",
            " [23 23 23 ... 23 23 23]\n",
            " ...\n",
            " [23 23 23 ...  0  0  0]\n",
            " [ 0  0 23 ...  0  0  0]\n",
            " [ 0  0 23 ...  0  0  0]]\n",
            "24/112\n",
            "[[ 5  5  5 ...  0  0  0]\n",
            " [ 5  5  5 ...  0  0  0]\n",
            " [ 5  5  5 ...  0  0  0]\n",
            " ...\n",
            " [ 0  0  0 ... 14  0  0]\n",
            " [ 0  0  0 ...  0  0  0]\n",
            " [ 0  0  0 ...  0  0  0]]\n",
            "25/112\n",
            "[[0 0 0 ... 0 0 0]\n",
            " [0 0 0 ... 0 0 0]\n",
            " [0 0 0 ... 0 0 0]\n",
            " ...\n",
            " [0 0 6 ... 0 0 0]\n",
            " [0 0 0 ... 0 0 0]\n",
            " [0 0 0 ... 0 0 0]]\n",
            "26/112\n",
            "[[ 0  0  6 ...  1  0  0]\n",
            " [ 0  0  6 ...  1  0  0]\n",
            " [ 0  0  6 ...  1  0  0]\n",
            " ...\n",
            " [ 0  0  0 ... 22  0  0]\n",
            " [ 0  0  0 ... 22  0  0]\n",
            " [ 0  0  0 ... 22  0  0]]\n",
            "27/112\n",
            "[[ 0  0  0 ...  0  0  0]\n",
            " [ 0  0  0 ...  0  0  0]\n",
            " [ 0  0  1 ...  0  0  0]\n",
            " ...\n",
            " [ 0  0  6 ... 23 23 23]\n",
            " [ 0  0  0 ...  0  0  0]\n",
            " [ 0  0  0 ...  0  0  0]]\n",
            "28/112\n",
            "[[0 0 6 ... 0 0 0]\n",
            " [0 0 6 ... 0 0 0]\n",
            " [0 0 6 ... 0 0 0]\n",
            " ...\n",
            " [0 0 0 ... 0 0 0]\n",
            " [0 0 0 ... 0 0 0]\n",
            " [0 0 0 ... 0 0 0]]\n",
            "29/112\n",
            "[[ 0  0  0 ...  0  0  0]\n",
            " [ 0  0  0 ...  0  0  0]\n",
            " [ 0  0  0 ...  0  0  0]\n",
            " ...\n",
            " [22 22 22 ...  5  5  5]\n",
            " [22 22 22 ...  5  0  0]\n",
            " [22 22 22 ...  5  0  0]]\n",
            "30/112\n",
            "[[0 0 5 ... 0 0 0]\n",
            " [0 0 5 ... 0 0 0]\n",
            " [5 5 5 ... 5 0 0]\n",
            " ...\n",
            " [0 0 0 ... 0 0 0]\n",
            " [0 0 0 ... 0 0 0]\n",
            " [0 0 0 ... 0 0 0]]\n",
            "31/112\n",
            "[[ 0  0  0 ... 23  0  0]\n",
            " [ 0  0  0 ... 23  0  0]\n",
            " [ 0  0  0 ... 23 23 23]\n",
            " ...\n",
            " [ 0  0 23 ...  0  0  0]\n",
            " [ 0  0  0 ...  0  0  0]\n",
            " [ 0  0  0 ...  0  0  0]]\n",
            "32/112\n",
            "[[ 0  0  0 ...  0  0  0]\n",
            " [ 0  0  0 ...  0  0  0]\n",
            " [ 5  5  5 ...  0  0  0]\n",
            " ...\n",
            " [ 0  0  0 ... 21 21 21]\n",
            " [ 0  0  0 ...  0  0  0]\n",
            " [ 0  0  0 ...  0  0  0]]\n",
            "33/112\n",
            "[[0 0 0 ... 0 0 0]\n",
            " [0 0 0 ... 0 0 0]\n",
            " [0 0 5 ... 5 0 0]\n",
            " ...\n",
            " [0 0 0 ... 6 6 6]\n",
            " [0 0 0 ... 0 0 0]\n",
            " [0 0 0 ... 0 0 0]]\n",
            "34/112\n",
            "[[ 0  0  0 ... 23  0  0]\n",
            " [ 0  0  0 ... 23  0  0]\n",
            " [ 0  0  0 ... 23 23 23]\n",
            " ...\n",
            " [23 23 23 ... 23 23 23]\n",
            " [23 23 23 ... 23  0  0]\n",
            " [23 23 23 ... 23  0  0]]\n",
            "35/112\n",
            "[[0 0 0 ... 0 0 0]\n",
            " [0 0 0 ... 0 0 0]\n",
            " [0 0 0 ... 0 0 0]\n",
            " ...\n",
            " [0 0 5 ... 0 0 0]\n",
            " [0 0 0 ... 0 0 0]\n",
            " [0 0 0 ... 0 0 0]]\n",
            "36/112\n",
            "[[ 0  0  0 ... 23  0  0]\n",
            " [ 0  0  0 ... 23  0  0]\n",
            " [ 0  0  6 ... 23  0  0]\n",
            " ...\n",
            " [ 0  0  1 ... 23 23 23]\n",
            " [ 0  0  0 ... 23 23 23]\n",
            " [ 0  0  0 ... 23 23 23]]\n",
            "37/112\n",
            "[[ 0  0  0 ...  0  0  0]\n",
            " [ 0  0  0 ...  0  0  0]\n",
            " [ 0  0  0 ...  0  0  0]\n",
            " ...\n",
            " [ 0  0 22 ... 22 22 22]\n",
            " [ 0  0  0 ... 22  0  0]\n",
            " [ 0  0  0 ... 22  0  0]]\n",
            "38/112\n",
            "[[21 21 21 ...  6  0  0]\n",
            " [21 21 21 ...  6  0  0]\n",
            " [21 21 21 ...  6  6  6]\n",
            " ...\n",
            " [ 0  0  0 ...  6  0  0]\n",
            " [ 0  0  0 ...  0  0  0]\n",
            " [ 0  0  0 ...  0  0  0]]\n",
            "39/112\n",
            "[[ 0  0  0 ...  0  0  0]\n",
            " [ 0  0  0 ...  0  0  0]\n",
            " [ 0  0  0 ... 21 21 21]\n",
            " ...\n",
            " [ 0  0  6 ...  0  0  0]\n",
            " [ 0  0  0 ...  0  0  0]\n",
            " [ 0  0  0 ...  0  0  0]]\n",
            "40/112\n",
            "[[0 0 6 ... 0 0 0]\n",
            " [0 0 6 ... 0 0 0]\n",
            " [0 0 6 ... 5 0 0]\n",
            " ...\n",
            " [0 0 0 ... 0 0 0]\n",
            " [0 0 0 ... 0 0 0]\n",
            " [0 0 0 ... 0 0 0]]\n",
            "41/112\n",
            "[[0 0 0 ... 5 5 5]\n",
            " [0 0 0 ... 5 5 5]\n",
            " [5 5 5 ... 5 5 5]\n",
            " ...\n",
            " [0 0 5 ... 6 6 6]\n",
            " [0 0 0 ... 6 0 0]\n",
            " [0 0 0 ... 6 0 0]]\n",
            "42/112\n",
            "[[ 0  0  0 ...  6  0  0]\n",
            " [ 0  0  0 ...  6  0  0]\n",
            " [ 0  0  0 ...  6  6  6]\n",
            " ...\n",
            " [ 0  0  0 ... 22  0  0]\n",
            " [ 0  0  0 ... 22  0  0]\n",
            " [ 0  0  0 ... 22  0  0]]\n",
            "43/112\n",
            "[[0 0 5 ... 5 5 5]\n",
            " [0 0 5 ... 5 5 5]\n",
            " [5 5 5 ... 5 5 5]\n",
            " ...\n",
            " [0 0 0 ... 6 6 6]\n",
            " [0 0 0 ... 0 0 0]\n",
            " [0 0 0 ... 0 0 0]]\n",
            "44/112\n",
            "[[0 0 0 ... 0 0 0]\n",
            " [0 0 0 ... 0 0 0]\n",
            " [0 0 0 ... 0 0 0]\n",
            " ...\n",
            " [0 0 5 ... 0 0 0]\n",
            " [0 0 5 ... 0 0 0]\n",
            " [0 0 5 ... 0 0 0]]\n",
            "45/112\n",
            "[[0 0 0 ... 0 0 0]\n",
            " [0 0 0 ... 0 0 0]\n",
            " [0 0 5 ... 5 0 0]\n",
            " ...\n",
            " [0 0 0 ... 0 0 0]\n",
            " [0 0 0 ... 0 0 0]\n",
            " [0 0 0 ... 0 0 0]]\n",
            "46/112\n",
            "[[0 0 0 ... 0 0 0]\n",
            " [0 0 0 ... 0 0 0]\n",
            " [0 0 0 ... 0 0 0]\n",
            " ...\n",
            " [1 1 1 ... 0 0 0]\n",
            " [0 0 1 ... 0 0 0]\n",
            " [0 0 1 ... 0 0 0]]\n",
            "47/112\n",
            "[[0 0 0 ... 0 0 0]\n",
            " [0 0 0 ... 0 0 0]\n",
            " [0 0 5 ... 5 0 0]\n",
            " ...\n",
            " [0 0 0 ... 5 5 5]\n",
            " [0 0 0 ... 5 0 0]\n",
            " [0 0 0 ... 5 0 0]]\n",
            "48/112\n",
            "[[0 0 0 ... 0 0 0]\n",
            " [0 0 0 ... 0 0 0]\n",
            " [0 0 0 ... 5 0 0]\n",
            " ...\n",
            " [0 0 0 ... 0 0 0]\n",
            " [0 0 0 ... 0 0 0]\n",
            " [0 0 0 ... 0 0 0]]\n",
            "49/112\n",
            "[[0 0 1 ... 0 0 0]\n",
            " [0 0 1 ... 0 0 0]\n",
            " [1 1 1 ... 6 0 0]\n",
            " ...\n",
            " [0 0 0 ... 0 0 0]\n",
            " [0 0 0 ... 0 0 0]\n",
            " [0 0 0 ... 0 0 0]]\n",
            "50/112\n",
            "[[ 0  0  0 ...  0  0  0]\n",
            " [ 0  0  0 ...  0  0  0]\n",
            " [ 0  0  0 ...  0  0  0]\n",
            " ...\n",
            " [ 0  0  0 ... 14 14 14]\n",
            " [ 0  0  0 ... 14  0  0]\n",
            " [ 0  0  0 ... 14  0  0]]\n",
            "51/112\n",
            "[[ 0  0  0 ... 23 23 23]\n",
            " [ 0  0  0 ... 23 23 23]\n",
            " [ 0  0  0 ... 23 23 23]\n",
            " ...\n",
            " [ 0  0  0 ... 23 23 23]\n",
            " [ 0  0  0 ... 23 23 23]\n",
            " [ 0  0  0 ... 23 23 23]]\n",
            "52/112\n",
            "[[0 0 0 ... 0 0 0]\n",
            " [0 0 0 ... 0 0 0]\n",
            " [0 0 0 ... 0 0 0]\n",
            " ...\n",
            " [0 0 0 ... 0 0 0]\n",
            " [0 0 0 ... 0 0 0]\n",
            " [0 0 0 ... 0 0 0]]\n",
            "53/112\n",
            "[[ 0  0  0 ...  0  0  0]\n",
            " [ 0  0  0 ...  0  0  0]\n",
            " [ 0  0  0 ... 22  0  0]\n",
            " ...\n",
            " [ 0  0  0 ... 14  0  0]\n",
            " [ 0  0  0 ...  0  0  0]\n",
            " [ 0  0  0 ...  0  0  0]]\n",
            "54/112\n",
            "[[0 0 1 ... 0 0 0]\n",
            " [0 0 1 ... 0 0 0]\n",
            " [1 1 1 ... 6 0 0]\n",
            " ...\n",
            " [0 0 6 ... 0 0 0]\n",
            " [0 0 0 ... 0 0 0]\n",
            " [0 0 0 ... 0 0 0]]\n",
            "55/112\n",
            "[[0 0 0 ... 0 0 0]\n",
            " [0 0 0 ... 0 0 0]\n",
            " [0 0 5 ... 5 0 0]\n",
            " ...\n",
            " [0 0 0 ... 0 0 0]\n",
            " [0 0 0 ... 0 0 0]\n",
            " [0 0 0 ... 0 0 0]]\n",
            "56/112\n",
            "[[ 0  0 23 ... 23 23 23]\n",
            " [ 0  0 23 ... 23 23 23]\n",
            " [23 23 23 ... 23 23 23]\n",
            " ...\n",
            " [ 0  0  6 ... 23 23 23]\n",
            " [ 0  0  0 ... 23 23 23]\n",
            " [ 0  0  0 ... 23 23 23]]\n",
            "57/112\n",
            "[[ 0  0  0 ...  0  0  0]\n",
            " [ 0  0  0 ...  0  0  0]\n",
            " [ 0  0  5 ...  5  0  0]\n",
            " ...\n",
            " [ 0  0  0 ... 14  0  0]\n",
            " [ 0  0  0 ...  0  0  0]\n",
            " [ 0  0  0 ...  0  0  0]]\n",
            "58/112\n",
            "[[ 0  0  0 ...  6  0  0]\n",
            " [ 0  0  0 ...  6  0  0]\n",
            " [ 0  0 23 ...  6  6  6]\n",
            " ...\n",
            " [ 0  0  1 ...  6  6  6]\n",
            " [ 0  0  1 ...  6  0  0]\n",
            " [ 0  0  1 ...  6  0  0]]\n",
            "59/112\n",
            "[[0 0 0 ... 0 0 0]\n",
            " [0 0 0 ... 0 0 0]\n",
            " [0 0 0 ... 0 0 0]\n",
            " ...\n",
            " [0 0 0 ... 0 0 0]\n",
            " [0 0 0 ... 0 0 0]\n",
            " [0 0 0 ... 0 0 0]]\n",
            "60/112\n",
            "[[0 0 0 ... 0 0 0]\n",
            " [0 0 0 ... 0 0 0]\n",
            " [0 0 0 ... 0 0 0]\n",
            " ...\n",
            " [0 0 0 ... 6 6 6]\n",
            " [0 0 0 ... 6 0 0]\n",
            " [0 0 0 ... 6 0 0]]\n",
            "61/112\n",
            "[[ 0  0  0 ...  0  0  0]\n",
            " [ 0  0  0 ...  0  0  0]\n",
            " [ 0  0  0 ...  0  0  0]\n",
            " ...\n",
            " [ 1  1  1 ... 23 23 23]\n",
            " [ 1  1  1 ... 23  0  0]\n",
            " [ 1  1  1 ... 23  0  0]]\n",
            "62/112\n",
            "[[0 0 0 ... 0 0 0]\n",
            " [0 0 0 ... 0 0 0]\n",
            " [0 0 0 ... 0 0 0]\n",
            " ...\n",
            " [0 0 0 ... 6 6 6]\n",
            " [0 0 0 ... 6 0 0]\n",
            " [0 0 0 ... 6 0 0]]\n",
            "63/112\n",
            "[[0 0 0 ... 1 0 0]\n",
            " [0 0 0 ... 1 0 0]\n",
            " [0 0 0 ... 1 1 1]\n",
            " ...\n",
            " [0 0 0 ... 6 6 6]\n",
            " [0 0 0 ... 6 0 0]\n",
            " [0 0 0 ... 6 0 0]]\n",
            "64/112\n",
            "[[ 0  0  0 ...  6  0  0]\n",
            " [ 0  0  0 ...  6  0  0]\n",
            " [ 0  0  0 ...  6  6  6]\n",
            " ...\n",
            " [23 23 23 ... 23 23 23]\n",
            " [23 23 23 ... 23 23 23]\n",
            " [23 23 23 ... 23 23 23]]\n",
            "65/112\n",
            "[[0 0 0 ... 6 0 0]\n",
            " [0 0 0 ... 6 0 0]\n",
            " [0 0 5 ... 6 6 6]\n",
            " ...\n",
            " [0 0 0 ... 0 0 0]\n",
            " [0 0 0 ... 0 0 0]\n",
            " [0 0 0 ... 0 0 0]]\n",
            "66/112\n",
            "[[5 5 5 ... 0 0 0]\n",
            " [5 5 5 ... 0 0 0]\n",
            " [5 5 5 ... 0 0 0]\n",
            " ...\n",
            " [0 0 5 ... 6 6 6]\n",
            " [0 0 0 ... 6 0 0]\n",
            " [0 0 0 ... 6 0 0]]\n",
            "67/112\n",
            "[[ 0  0  0 ...  0  0  0]\n",
            " [ 0  0  0 ...  0  0  0]\n",
            " [ 0  0  0 ...  5  0  0]\n",
            " ...\n",
            " [22 22 22 ...  5  0  0]\n",
            " [ 0  0 22 ...  0  0  0]\n",
            " [ 0  0 22 ...  0  0  0]]\n",
            "68/112\n",
            "[[ 0  0  0 ...  0  0  0]\n",
            " [ 0  0  0 ...  0  0  0]\n",
            " [ 0  0  0 ...  0  0  0]\n",
            " ...\n",
            " [23 23 23 ...  0  0  0]\n",
            " [ 0  0 23 ...  0  0  0]\n",
            " [ 0  0 23 ...  0  0  0]]\n",
            "69/112\n",
            "[[0 0 0 ... 0 0 0]\n",
            " [0 0 0 ... 0 0 0]\n",
            " [0 0 6 ... 5 0 0]\n",
            " ...\n",
            " [0 0 0 ... 5 5 5]\n",
            " [0 0 0 ... 0 0 0]\n",
            " [0 0 0 ... 0 0 0]]\n",
            "70/112\n",
            "[[0 0 0 ... 5 5 5]\n",
            " [0 0 0 ... 5 5 5]\n",
            " [0 0 6 ... 5 5 5]\n",
            " ...\n",
            " [5 5 5 ... 6 6 6]\n",
            " [0 0 5 ... 6 0 0]\n",
            " [0 0 5 ... 6 0 0]]\n",
            "71/112\n",
            "[[ 0  0  0 ...  0  0  0]\n",
            " [ 0  0  0 ...  0  0  0]\n",
            " [ 0  0  0 ...  0  0  0]\n",
            " ...\n",
            " [ 0  0  6 ... 23  0  0]\n",
            " [ 0  0  6 ...  0  0  0]\n",
            " [ 0  0  6 ...  0  0  0]]\n",
            "72/112\n",
            "[[ 0  0 23 ...  1  0  0]\n",
            " [ 0  0 23 ...  1  0  0]\n",
            " [23 23 23 ...  1  1  1]\n",
            " ...\n",
            " [ 0  0  1 ...  0  0  0]\n",
            " [ 0  0  1 ...  0  0  0]\n",
            " [ 0  0  1 ...  0  0  0]]\n",
            "73/112\n",
            "[[0 0 0 ... 0 0 0]\n",
            " [0 0 0 ... 0 0 0]\n",
            " [0 0 5 ... 0 0 0]\n",
            " ...\n",
            " [0 0 0 ... 0 0 0]\n",
            " [0 0 0 ... 0 0 0]\n",
            " [0 0 0 ... 0 0 0]]\n",
            "74/112\n",
            "[[ 0  0  6 ...  0  0  0]\n",
            " [ 0  0  6 ...  0  0  0]\n",
            " [ 0  0  6 ... 22  0  0]\n",
            " ...\n",
            " [ 1  1  1 ... 22 22 22]\n",
            " [ 0  0  1 ... 22  0  0]\n",
            " [ 0  0  1 ... 22  0  0]]\n",
            "75/112\n",
            "[[0 0 0 ... 0 0 0]\n",
            " [0 0 0 ... 0 0 0]\n",
            " [0 0 0 ... 0 0 0]\n",
            " ...\n",
            " [0 0 6 ... 0 0 0]\n",
            " [0 0 6 ... 0 0 0]\n",
            " [0 0 6 ... 0 0 0]]\n",
            "76/112\n",
            "[[ 0  0 23 ...  1  0  0]\n",
            " [ 0  0 23 ...  1  0  0]\n",
            " [ 0  0 23 ...  1  1  1]\n",
            " ...\n",
            " [ 0  0  0 ...  1  0  0]\n",
            " [ 0  0  0 ...  0  0  0]\n",
            " [ 0  0  0 ...  0  0  0]]\n",
            "77/112\n",
            "[[ 0  0  0 ... 23  0  0]\n",
            " [ 0  0  0 ... 23  0  0]\n",
            " [ 0  0  0 ... 23 23 23]\n",
            " ...\n",
            " [23 23 23 ... 23 23 23]\n",
            " [23 23 23 ... 23  0  0]\n",
            " [23 23 23 ... 23  0  0]]\n",
            "78/112\n",
            "[[ 0  0  0 ...  0  0  0]\n",
            " [ 0  0  0 ...  0  0  0]\n",
            " [ 0  0  0 ...  5  5  5]\n",
            " ...\n",
            " [14 14 14 ...  0  0  0]\n",
            " [ 0  0 14 ...  0  0  0]\n",
            " [ 0  0 14 ...  0  0  0]]\n",
            "79/112\n",
            "[[ 0  0  0 ...  5  0  0]\n",
            " [ 0  0  0 ...  5  0  0]\n",
            " [ 0  0  0 ...  5  5  5]\n",
            " ...\n",
            " [ 0  0 22 ...  0  0  0]\n",
            " [ 0  0 22 ...  0  0  0]\n",
            " [ 0  0 22 ...  0  0  0]]\n",
            "80/112\n",
            "[[0 0 0 ... 0 0 0]\n",
            " [0 0 0 ... 0 0 0]\n",
            " [0 0 0 ... 6 6 6]\n",
            " ...\n",
            " [0 0 5 ... 6 0 0]\n",
            " [0 0 0 ... 0 0 0]\n",
            " [0 0 0 ... 0 0 0]]\n",
            "81/112\n",
            "[[ 0  0  0 ...  0  0  0]\n",
            " [ 0  0  0 ...  0  0  0]\n",
            " [ 0  0 23 ...  1  0  0]\n",
            " ...\n",
            " [23 23 23 ... 23 23 23]\n",
            " [ 0  0 23 ... 23  0  0]\n",
            " [ 0  0 23 ... 23  0  0]]\n",
            "82/112\n",
            "[[ 0  0  0 ...  1  0  0]\n",
            " [ 0  0  0 ...  1  0  0]\n",
            " [ 0  0  0 ...  1  1  1]\n",
            " ...\n",
            " [ 0  0 22 ...  0  0  0]\n",
            " [ 0  0  0 ...  0  0  0]\n",
            " [ 0  0  0 ...  0  0  0]]\n",
            "83/112\n",
            "[[ 0  0  0 ...  0  0  0]\n",
            " [ 0  0  0 ...  0  0  0]\n",
            " [ 0  0  0 ...  1  0  0]\n",
            " ...\n",
            " [ 0  0 22 ...  5  5  5]\n",
            " [ 0  0  0 ...  5  0  0]\n",
            " [ 0  0  0 ...  5  0  0]]\n",
            "84/112\n",
            "[[0 0 0 ... 1 0 0]\n",
            " [0 0 0 ... 1 0 0]\n",
            " [0 0 0 ... 1 1 1]\n",
            " ...\n",
            " [1 1 1 ... 0 0 0]\n",
            " [0 0 1 ... 0 0 0]\n",
            " [0 0 1 ... 0 0 0]]\n",
            "85/112\n",
            "[[0 0 0 ... 5 0 0]\n",
            " [0 0 0 ... 5 0 0]\n",
            " [0 0 5 ... 5 5 5]\n",
            " ...\n",
            " [0 0 0 ... 6 6 6]\n",
            " [0 0 0 ... 6 0 0]\n",
            " [0 0 0 ... 6 0 0]]\n",
            "86/112\n",
            "[[ 0  0  1 ...  1  1  1]\n",
            " [ 0  0  1 ...  1  1  1]\n",
            " [ 1  1  1 ...  1  1  1]\n",
            " ...\n",
            " [23 23 23 ...  1  1  1]\n",
            " [23 23 23 ...  1  1  1]\n",
            " [23 23 23 ...  1  1  1]]\n",
            "87/112\n",
            "[[ 0  0  0 ...  1  1  1]\n",
            " [ 0  0  0 ...  1  1  1]\n",
            " [ 0  0  0 ...  1  1  1]\n",
            " ...\n",
            " [ 0  0 22 ... 22 22 22]\n",
            " [ 0  0  0 ... 22  0  0]\n",
            " [ 0  0  0 ... 22  0  0]]\n",
            "88/112\n",
            "[[0 0 0 ... 0 0 0]\n",
            " [0 0 0 ... 0 0 0]\n",
            " [0 0 5 ... 0 0 0]\n",
            " ...\n",
            " [0 0 0 ... 0 0 0]\n",
            " [0 0 0 ... 0 0 0]\n",
            " [0 0 0 ... 0 0 0]]\n",
            "89/112\n",
            "[[ 0  0  5 ...  0  0  0]\n",
            " [ 0  0  5 ...  0  0  0]\n",
            " [ 5  5  5 ...  0  0  0]\n",
            " ...\n",
            " [ 0  0  0 ... 14  0  0]\n",
            " [ 0  0  0 ...  0  0  0]\n",
            " [ 0  0  0 ...  0  0  0]]\n",
            "90/112\n",
            "[[0 0 0 ... 6 0 0]\n",
            " [0 0 0 ... 6 0 0]\n",
            " [0 0 0 ... 6 6 6]\n",
            " ...\n",
            " [0 0 6 ... 0 0 0]\n",
            " [0 0 0 ... 0 0 0]\n",
            " [0 0 0 ... 0 0 0]]\n",
            "91/112\n",
            "[[ 0  0  0 ...  6  0  0]\n",
            " [ 0  0  0 ...  6  0  0]\n",
            " [ 0  0  0 ...  6 23 23]\n",
            " ...\n",
            " [ 0  0  0 ... 23 23 23]\n",
            " [ 0  0  0 ... 23 23 23]\n",
            " [ 0  0  0 ... 23 23 23]]\n",
            "92/112\n",
            "[[0 0 5 ... 5 5 5]\n",
            " [0 0 5 ... 5 5 5]\n",
            " [5 5 5 ... 5 5 5]\n",
            " ...\n",
            " [0 0 5 ... 5 5 5]\n",
            " [0 0 5 ... 5 5 5]\n",
            " [0 0 5 ... 5 5 5]]\n",
            "93/112\n",
            "[[0 0 0 ... 0 0 0]\n",
            " [0 0 0 ... 0 0 0]\n",
            " [0 0 6 ... 0 0 0]\n",
            " ...\n",
            " [0 0 5 ... 0 0 0]\n",
            " [0 0 0 ... 0 0 0]\n",
            " [0 0 0 ... 0 0 0]]\n",
            "94/112\n",
            "[[ 0  0  0 ...  0  0  0]\n",
            " [ 0  0  0 ...  0  0  0]\n",
            " [ 0  0  5 ...  0  0  0]\n",
            " ...\n",
            " [ 0  0  0 ... 22 22 22]\n",
            " [ 0  0  0 ... 22  0  0]\n",
            " [ 0  0  0 ... 22  0  0]]\n",
            "95/112\n",
            "[[0 0 0 ... 1 0 0]\n",
            " [0 0 0 ... 1 0 0]\n",
            " [0 0 0 ... 1 1 1]\n",
            " ...\n",
            " [0 0 0 ... 6 0 0]\n",
            " [0 0 0 ... 0 0 0]\n",
            " [0 0 0 ... 0 0 0]]\n",
            "96/112\n",
            "[[0 0 0 ... 5 0 0]\n",
            " [0 0 0 ... 5 0 0]\n",
            " [0 0 0 ... 5 5 5]\n",
            " ...\n",
            " [0 0 0 ... 0 0 0]\n",
            " [0 0 0 ... 0 0 0]\n",
            " [0 0 0 ... 0 0 0]]\n",
            "97/112\n",
            "[[0 0 0 ... 0 0 0]\n",
            " [0 0 0 ... 0 0 0]\n",
            " [0 0 0 ... 5 0 0]\n",
            " ...\n",
            " [0 0 0 ... 5 5 5]\n",
            " [0 0 0 ... 5 5 5]\n",
            " [0 0 0 ... 5 5 5]]\n",
            "98/112\n",
            "[[ 0  0  0 ...  0  0  0]\n",
            " [ 0  0  0 ...  0  0  0]\n",
            " [ 0  0  6 ...  0  0  0]\n",
            " ...\n",
            " [23 23 23 ... 23 23 23]\n",
            " [23 23 23 ... 23  0  0]\n",
            " [23 23 23 ... 23  0  0]]\n",
            "99/112\n",
            "[[0 0 0 ... 0 0 0]\n",
            " [0 0 0 ... 0 0 0]\n",
            " [0 0 6 ... 0 0 0]\n",
            " ...\n",
            " [0 0 0 ... 0 0 0]\n",
            " [0 0 0 ... 0 0 0]\n",
            " [0 0 0 ... 0 0 0]]\n",
            "100/112\n",
            "[[0 0 0 ... 5 0 0]\n",
            " [0 0 0 ... 5 0 0]\n",
            " [0 0 0 ... 5 5 5]\n",
            " ...\n",
            " [0 0 6 ... 6 6 6]\n",
            " [0 0 6 ... 6 6 6]\n",
            " [0 0 6 ... 6 6 6]]\n",
            "101/112\n",
            "[[ 0  0  0 ...  0  0  0]\n",
            " [ 0  0  0 ...  0  0  0]\n",
            " [ 0  0  0 ...  0  0  0]\n",
            " ...\n",
            " [ 0  0  0 ... 21 21 21]\n",
            " [ 0  0  0 ...  0  0  0]\n",
            " [ 0  0  0 ...  0  0  0]]\n",
            "102/112\n",
            "[[0 0 0 ... 6 0 0]\n",
            " [0 0 0 ... 6 0 0]\n",
            " [0 0 0 ... 6 6 6]\n",
            " ...\n",
            " [0 0 0 ... 6 0 0]\n",
            " [0 0 0 ... 0 0 0]\n",
            " [0 0 0 ... 0 0 0]]\n",
            "103/112\n",
            "[[0 0 0 ... 0 0 0]\n",
            " [0 0 0 ... 0 0 0]\n",
            " [0 0 0 ... 1 1 1]\n",
            " ...\n",
            " [0 0 0 ... 6 6 6]\n",
            " [0 0 0 ... 6 0 0]\n",
            " [0 0 0 ... 6 0 0]]\n",
            "104/112\n",
            "[[0 0 0 ... 0 0 0]\n",
            " [0 0 0 ... 0 0 0]\n",
            " [0 0 0 ... 0 0 0]\n",
            " ...\n",
            " [0 0 6 ... 6 0 0]\n",
            " [0 0 0 ... 0 0 0]\n",
            " [0 0 0 ... 0 0 0]]\n",
            "105/112\n",
            "[[0 0 0 ... 0 0 0]\n",
            " [0 0 0 ... 0 0 0]\n",
            " [0 0 0 ... 0 0 0]\n",
            " ...\n",
            " [0 0 0 ... 0 0 0]\n",
            " [0 0 0 ... 0 0 0]\n",
            " [0 0 0 ... 0 0 0]]\n",
            "106/112\n",
            "[[ 0  0  5 ...  1  0  0]\n",
            " [ 0  0  5 ...  1  0  0]\n",
            " [ 5  5  5 ...  1  1  1]\n",
            " ...\n",
            " [ 0  0  6 ... 23 23 23]\n",
            " [ 0  0  0 ... 23 23 23]\n",
            " [ 0  0  0 ... 23 23 23]]\n",
            "107/112\n",
            "[[5 5 5 ... 5 0 0]\n",
            " [5 5 5 ... 5 0 0]\n",
            " [5 5 5 ... 5 0 0]\n",
            " ...\n",
            " [6 6 6 ... 6 6 6]\n",
            " [0 0 6 ... 0 0 0]\n",
            " [0 0 6 ... 0 0 0]]\n",
            "108/112\n",
            "[[ 0  0 23 ...  0  0  0]\n",
            " [ 0  0 23 ...  0  0  0]\n",
            " [23 23 23 ...  0  0  0]\n",
            " ...\n",
            " [23 23 23 ...  0  0  0]\n",
            " [23 23 23 ...  0  0  0]\n",
            " [23 23 23 ...  0  0  0]]\n",
            "109/112\n",
            "[[ 0  0  0 ...  0  0  0]\n",
            " [ 0  0  0 ...  0  0  0]\n",
            " [ 0  0  0 ...  0  0  0]\n",
            " ...\n",
            " [23 23 23 ... 23  0  0]\n",
            " [ 0  0 23 ...  0  0  0]\n",
            " [ 0  0 23 ...  0  0  0]]\n",
            "110/112\n",
            "[[ 0  0  5 ...  0  0  0]\n",
            " [ 0  0  5 ...  0  0  0]\n",
            " [ 5  5  5 ...  0  0  0]\n",
            " ...\n",
            " [21 21 21 ... 14  0  0]\n",
            " [21 21 21 ...  0  0  0]\n",
            " [21 21 21 ...  0  0  0]]\n",
            "111/112\n",
            "[[ 0  0  0 ...  0  0  0]\n",
            " [ 0  0  0 ...  0  0  0]\n",
            " [ 0  0  0 ...  0  0  0]\n",
            " ...\n",
            " [23 23 23 ...  6  6  6]\n",
            " [ 0  0 23 ...  6  0  0]\n",
            " [ 0  0 23 ...  6  0  0]]\n"
          ]
        }
      ],
      "source": [
        "#Turn masks into Kaggle format\n",
        "def rle_encode(img):\n",
        "    '''\n",
        "    img: numpy array, 1 - mask, 0 - background\n",
        "    Returns run length as string formated\n",
        "    '''\n",
        "    pixels = img.flatten()\n",
        "    pixels = np.concatenate([[0], pixels, [0]])\n",
        "    runs = np.where(pixels[1:] != pixels[:-1])[0] + 1\n",
        "    runs[1::2] -= runs[::2]\n",
        "    return ' '.join(str(x) for x in runs)\n",
        "\n",
        "def rle_decode(mask_rle, shape):\n",
        "    '''\n",
        "    mask_rle: run-length as string formated (start length)\n",
        "    shape: (height,width) of array to return\n",
        "    Returns numpy array, 1 - mask, 0 - background\n",
        "    '''\n",
        "    s = mask_rle.split()\n",
        "    starts, lengths = [np.asarray(x, dtype=int) for x in (s[0:][::2], s[1:][::2])]\n",
        "    starts -= 1\n",
        "    ends = starts + lengths\n",
        "    img = np.zeros(shape[0]*shape[1], dtype=np.uint8)\n",
        "    for lo, hi in zip(starts, ends):\n",
        "        img[lo:hi] = 1\n",
        "    return img.reshape(shape)\n",
        "\n",
        "\n",
        "def create_rles():\n",
        "    \"\"\"Used for Kaggle submission: predicts and encode all test images\"\"\"\n",
        "    dir = 'test_preds/'\n",
        "    N = len(list(os.listdir(dir)))\n",
        "    with open('submission_file.csv', 'w') as f:\n",
        "        f.write('ImageClassId,rle_mask\\n')\n",
        "        for index, i in enumerate(os.listdir(dir)):\n",
        "            print('{}/{}'.format(index, N))\n",
        "\n",
        "            mask = Image.open(dir + i)\n",
        "            mask = mask.resize((1024, 1024), resample=Image.NEAREST)\n",
        "            mask = np.array(mask)\n",
        "            print(mask)\n",
        "\n",
        "            for x in range(1, 25):\n",
        "                enc = rle_encode(mask == x)\n",
        "                f.write(f\"{i.split('_')[0]}_{x},{enc}\\n\")\n",
        "\n",
        "create_rles()"
      ]
    }
  ],
  "metadata": {
    "accelerator": "GPU",
    "colab": {
      "collapsed_sections": [],
      "name": "Kaggle_FINAL.ipynb",
      "provenance": [],
      "machine_shape": "hm"
    },
    "kernelspec": {
      "display_name": "Python 3",
      "name": "python3"
    },
    "language_info": {
      "name": "python"
    }
  },
  "nbformat": 4,
  "nbformat_minor": 0
}